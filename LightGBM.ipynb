{
  "nbformat": 4,
  "nbformat_minor": 5,
  "metadata": {
    "kernelspec": {
      "display_name": "Python 3 (ipykernel)",
      "language": "python",
      "name": "python3"
    },
    "language_info": {
      "codemirror_mode": {
        "name": "ipython",
        "version": 3
      },
      "file_extension": ".py",
      "mimetype": "text/x-python",
      "name": "python",
      "nbconvert_exporter": "python",
      "pygments_lexer": "ipython3",
      "version": "3.8.11"
    },
    "colab": {
      "name": "LightGBM.ipynb",
      "provenance": []
    }
  },
  "cells": [
    {
      "cell_type": "code",
      "metadata": {
        "colab": {
          "base_uri": "https://localhost:8080/"
        },
        "id": "za10SsP4n5E3",
        "outputId": "07f85e79-7945-4cb6-e0a2-f0751fcb100a"
      },
      "source": [
        "pip install optuna"
      ],
      "id": "za10SsP4n5E3",
      "execution_count": null,
      "outputs": [
        {
          "output_type": "stream",
          "name": "stdout",
          "text": [
            "Collecting optuna\n",
            "  Downloading optuna-2.10.0-py3-none-any.whl (308 kB)\n",
            "\u001b[K     |████████████████████████████████| 308 kB 32.8 MB/s \n",
            "\u001b[?25hCollecting alembic\n",
            "  Downloading alembic-1.7.4-py3-none-any.whl (209 kB)\n",
            "\u001b[K     |████████████████████████████████| 209 kB 53.4 MB/s \n",
            "\u001b[?25hCollecting cmaes>=0.8.2\n",
            "  Downloading cmaes-0.8.2-py3-none-any.whl (15 kB)\n",
            "Requirement already satisfied: sqlalchemy>=1.1.0 in /usr/local/lib/python3.7/dist-packages (from optuna) (1.4.25)\n",
            "Requirement already satisfied: packaging>=20.0 in /usr/local/lib/python3.7/dist-packages (from optuna) (21.0)\n",
            "Collecting cliff\n",
            "  Downloading cliff-3.9.0-py3-none-any.whl (80 kB)\n",
            "\u001b[K     |████████████████████████████████| 80 kB 10.0 MB/s \n",
            "\u001b[?25hRequirement already satisfied: scipy!=1.4.0 in /usr/local/lib/python3.7/dist-packages (from optuna) (1.4.1)\n",
            "Requirement already satisfied: numpy in /usr/local/lib/python3.7/dist-packages (from optuna) (1.19.5)\n",
            "Requirement already satisfied: tqdm in /usr/local/lib/python3.7/dist-packages (from optuna) (4.62.3)\n",
            "Collecting colorlog\n",
            "  Downloading colorlog-6.5.0-py2.py3-none-any.whl (11 kB)\n",
            "Requirement already satisfied: PyYAML in /usr/local/lib/python3.7/dist-packages (from optuna) (3.13)\n",
            "Requirement already satisfied: pyparsing>=2.0.2 in /usr/local/lib/python3.7/dist-packages (from packaging>=20.0->optuna) (2.4.7)\n",
            "Requirement already satisfied: importlib-metadata in /usr/local/lib/python3.7/dist-packages (from sqlalchemy>=1.1.0->optuna) (4.8.1)\n",
            "Requirement already satisfied: greenlet!=0.4.17 in /usr/local/lib/python3.7/dist-packages (from sqlalchemy>=1.1.0->optuna) (1.1.2)\n",
            "Collecting Mako\n",
            "  Downloading Mako-1.1.5-py2.py3-none-any.whl (75 kB)\n",
            "\u001b[K     |████████████████████████████████| 75 kB 4.2 MB/s \n",
            "\u001b[?25hRequirement already satisfied: importlib-resources in /usr/local/lib/python3.7/dist-packages (from alembic->optuna) (5.2.2)\n",
            "Collecting stevedore>=2.0.1\n",
            "  Downloading stevedore-3.5.0-py3-none-any.whl (49 kB)\n",
            "\u001b[K     |████████████████████████████████| 49 kB 5.5 MB/s \n",
            "\u001b[?25hCollecting pbr!=2.1.0,>=2.0.0\n",
            "  Downloading pbr-5.6.0-py2.py3-none-any.whl (111 kB)\n",
            "\u001b[K     |████████████████████████████████| 111 kB 70.8 MB/s \n",
            "\u001b[?25hCollecting cmd2>=1.0.0\n",
            "  Downloading cmd2-2.2.0-py3-none-any.whl (144 kB)\n",
            "\u001b[K     |████████████████████████████████| 144 kB 76.0 MB/s \n",
            "\u001b[?25hCollecting autopage>=0.4.0\n",
            "  Downloading autopage-0.4.0-py3-none-any.whl (20 kB)\n",
            "Requirement already satisfied: PrettyTable>=0.7.2 in /usr/local/lib/python3.7/dist-packages (from cliff->optuna) (2.2.1)\n",
            "Requirement already satisfied: typing-extensions in /usr/local/lib/python3.7/dist-packages (from cmd2>=1.0.0->cliff->optuna) (3.7.4.3)\n",
            "Collecting colorama>=0.3.7\n",
            "  Downloading colorama-0.4.4-py2.py3-none-any.whl (16 kB)\n",
            "Requirement already satisfied: attrs>=16.3.0 in /usr/local/lib/python3.7/dist-packages (from cmd2>=1.0.0->cliff->optuna) (21.2.0)\n",
            "Collecting pyperclip>=1.6\n",
            "  Downloading pyperclip-1.8.2.tar.gz (20 kB)\n",
            "Requirement already satisfied: wcwidth>=0.1.7 in /usr/local/lib/python3.7/dist-packages (from cmd2>=1.0.0->cliff->optuna) (0.2.5)\n",
            "Requirement already satisfied: zipp>=0.5 in /usr/local/lib/python3.7/dist-packages (from importlib-metadata->sqlalchemy>=1.1.0->optuna) (3.6.0)\n",
            "Requirement already satisfied: MarkupSafe>=0.9.2 in /usr/local/lib/python3.7/dist-packages (from Mako->alembic->optuna) (2.0.1)\n",
            "Building wheels for collected packages: pyperclip\n",
            "  Building wheel for pyperclip (setup.py) ... \u001b[?25l\u001b[?25hdone\n",
            "  Created wheel for pyperclip: filename=pyperclip-1.8.2-py3-none-any.whl size=11136 sha256=69feabc752a75407e3f76168de224fa7a5630f91a40c4b20eed7d9883caa4407\n",
            "  Stored in directory: /root/.cache/pip/wheels/9f/18/84/8f69f8b08169c7bae2dde6bd7daf0c19fca8c8e500ee620a28\n",
            "Successfully built pyperclip\n",
            "Installing collected packages: pyperclip, pbr, colorama, stevedore, Mako, cmd2, autopage, colorlog, cmaes, cliff, alembic, optuna\n",
            "Successfully installed Mako-1.1.5 alembic-1.7.4 autopage-0.4.0 cliff-3.9.0 cmaes-0.8.2 cmd2-2.2.0 colorama-0.4.4 colorlog-6.5.0 optuna-2.10.0 pbr-5.6.0 pyperclip-1.8.2 stevedore-3.5.0\n"
          ]
        }
      ]
    },
    {
      "cell_type": "code",
      "metadata": {
        "id": "6e511988"
      },
      "source": [
        "from sklearn.model_selection import train_test_split\n",
        "from sklearn.metrics import mean_absolute_error\n",
        "from sklearn.model_selection import KFold\n",
        "import pickle\n",
        "import optuna\n",
        "import numpy as np\n",
        "import pandas as pd\n",
        "import lightgbm as lgb"
      ],
      "id": "6e511988",
      "execution_count": null,
      "outputs": []
    },
    {
      "cell_type": "code",
      "metadata": {
        "id": "138fd278"
      },
      "source": [
        "df = pd.read_csv('train_data.csv', index_col=0)\n",
        "weight = []"
      ],
      "id": "138fd278",
      "execution_count": null,
      "outputs": []
    },
    {
      "cell_type": "code",
      "metadata": {
        "id": "0c03f0de"
      },
      "source": [
        "df=df[df[\"Weight\"]!='Not Available']"
      ],
      "id": "0c03f0de",
      "execution_count": null,
      "outputs": []
    },
    {
      "cell_type": "code",
      "metadata": {
        "id": "6bb23efa"
      },
      "source": [
        "for index,row in df.iterrows():\n",
        "    weight.append(row[\"Weight\"].split()[0])"
      ],
      "id": "6bb23efa",
      "execution_count": null,
      "outputs": []
    },
    {
      "cell_type": "code",
      "metadata": {
        "id": "2b1dde93"
      },
      "source": [
        "df[\"weight\"]=weight"
      ],
      "id": "2b1dde93",
      "execution_count": null,
      "outputs": []
    },
    {
      "cell_type": "code",
      "metadata": {
        "id": "17eadb87"
      },
      "source": [
        "df = df.astype({\"weight\": int})"
      ],
      "id": "17eadb87",
      "execution_count": null,
      "outputs": []
    },
    {
      "cell_type": "code",
      "metadata": {
        "id": "2fc7875b"
      },
      "source": [
        "X = df.drop([\"Weight\",\"weight\",\"ID\"],axis=1).to_numpy()"
      ],
      "id": "2fc7875b",
      "execution_count": null,
      "outputs": []
    },
    {
      "cell_type": "code",
      "metadata": {
        "id": "04255d27"
      },
      "source": [
        "y = df[\"weight\"].to_numpy()"
      ],
      "id": "04255d27",
      "execution_count": null,
      "outputs": []
    },
    {
      "cell_type": "code",
      "metadata": {
        "id": "8222fdd8"
      },
      "source": [
        "kf = KFold(n_splits=5)"
      ],
      "id": "8222fdd8",
      "execution_count": null,
      "outputs": []
    },
    {
      "cell_type": "code",
      "metadata": {
        "id": "7b2eecbe"
      },
      "source": [
        "def define_model_layers(trial):\n",
        "      param_grid = {\n",
        "      \"n_estimators\": trial.suggest_int(\"n_estimators\", 1000, 3000),\n",
        "      \"learning_rate\": trial.suggest_float(\"learning_rate\", 0.01, 0.3),\n",
        "      \"num_leaves\": trial.suggest_int(\"num_leaves\", 20, 3000, step=20),\n",
        "      \"max_depth\": trial.suggest_int(\"max_depth\", 3, 12),\n",
        "      \"min_data_in_leaf\": trial.suggest_int(\"min_data_in_leaf\", 200, 10000, step=100),\n",
        "      \"max_bin\": trial.suggest_int(\"max_bin\", 200, 300),\n",
        "      \"lambda_l1\": trial.suggest_int(\"lambda_l1\", 0, 100, step=5),\n",
        "      \"lambda_l2\": trial.suggest_int(\"lambda_l2\", 0, 100, step=5),\n",
        "      \"min_gain_to_split\": trial.suggest_float(\"min_gain_to_split\", 0, 15),\n",
        "      \"bagging_fraction\": trial.suggest_float(\n",
        "          \"bagging_fraction\", 0.2, 0.9, step=0.1\n",
        "      ),\n",
        "      \"bagging_freq\": trial.suggest_categorical(\"bagging_freq\", [1]),\n",
        "      \"feature_fraction\": trial.suggest_float(\n",
        "          \"feature_fraction\", 0.2, 0.9, step=0.1\n",
        "      ),\n",
        "      }\n",
        "    \n",
        "      return param_grid"
      ],
      "id": "7b2eecbe",
      "execution_count": null,
      "outputs": []
    },
    {
      "cell_type": "code",
      "metadata": {
        "id": "JB84q-cD8vub"
      },
      "source": [
        "\n",
        "def eval_metric(y_true,y_pred):\n",
        "    return \"mae\",mean_absolute_error(y_true, y_pred),False"
      ],
      "id": "JB84q-cD8vub",
      "execution_count": null,
      "outputs": []
    },
    {
      "cell_type": "code",
      "metadata": {
        "id": "130f806d"
      },
      "source": [
        "def objective(trial):\n",
        "    param_grid = define_model_layers(trial)\n",
        "    \n",
        "    mae = []\n",
        "    \n",
        "    for train_index, test_index in kf.split(X):\n",
        "            \n",
        "            X_train, X_test, y_train, y_test = X[train_index],X[test_index],y[train_index],y[test_index]\n",
        "            model = lgb.LGBMRegressor(objective=\"regression\", **param_grid)\n",
        "            \n",
        "            model.fit(\n",
        "            X_train,\n",
        "            y_train,\n",
        "            eval_set=[(X_test, y_test)],\n",
        "            eval_metric=eval_metric,\n",
        "            early_stopping_rounds=100,\n",
        "            verbose = False,\n",
        "            )\n",
        "            y_pred = model.predict(X_test)\n",
        "            mae.append(mean_absolute_error(y_test, y_pred))\n",
        "            \n",
        "    acc = sum(mae)/len(mae)\n",
        "\n",
        "    return acc\n",
        "            "
      ],
      "id": "130f806d",
      "execution_count": null,
      "outputs": []
    },
    {
      "cell_type": "code",
      "metadata": {
        "id": "47b329b1",
        "colab": {
          "base_uri": "https://localhost:8080/"
        },
        "outputId": "e4dea29c-fe2f-4791-fcb0-c82dd7e3475e"
      },
      "source": [
        "study = optuna.create_study(direction=\"minimize\")\n",
        "study.optimize(objective,n_trials=100)\n",
        "\n",
        "print(\"Best trial:\")\n",
        "trial = study.best_trial\n",
        "\n",
        "print(\" Value: \",trial.value)\n",
        "\n",
        "print(\" Params: \")\n",
        "\n",
        "for key,value in trial.params.items():\n",
        "    print(\"  {}: {}\".format(key,value))"
      ],
      "id": "47b329b1",
      "execution_count": null,
      "outputs": [
        {
          "output_type": "stream",
          "name": "stderr",
          "text": [
            "\u001b[32m[I 2021-11-02 19:05:23,389]\u001b[0m A new study created in memory with name: no-name-8cb6ab2a-1d85-4d46-9e56-7bbd1575f6fe\u001b[0m\n",
            "\u001b[32m[I 2021-11-02 19:05:31,874]\u001b[0m Trial 0 finished with value: 28.298817038853393 and parameters: {'n_estimators': 2612, 'learning_rate': 0.04369283104047973, 'num_leaves': 1720, 'max_depth': 3, 'min_data_in_leaf': 9900, 'max_bin': 276, 'lambda_l1': 80, 'lambda_l2': 70, 'min_gain_to_split': 14.076781696534576, 'bagging_fraction': 0.6000000000000001, 'bagging_freq': 1, 'feature_fraction': 0.30000000000000004}. Best is trial 0 with value: 28.298817038853393.\u001b[0m\n",
            "\u001b[32m[I 2021-11-02 19:05:36,834]\u001b[0m Trial 1 finished with value: 28.09636584666684 and parameters: {'n_estimators': 1260, 'learning_rate': 0.20344103901856653, 'num_leaves': 2580, 'max_depth': 9, 'min_data_in_leaf': 8300, 'max_bin': 213, 'lambda_l1': 40, 'lambda_l2': 5, 'min_gain_to_split': 9.859029748392624, 'bagging_fraction': 0.9, 'bagging_freq': 1, 'feature_fraction': 0.8}. Best is trial 1 with value: 28.09636584666684.\u001b[0m\n",
            "\u001b[32m[I 2021-11-02 19:05:41,776]\u001b[0m Trial 2 finished with value: 28.127796317622057 and parameters: {'n_estimators': 2074, 'learning_rate': 0.2947406462221246, 'num_leaves': 2320, 'max_depth': 7, 'min_data_in_leaf': 7400, 'max_bin': 271, 'lambda_l1': 70, 'lambda_l2': 100, 'min_gain_to_split': 12.853995590729475, 'bagging_fraction': 0.7, 'bagging_freq': 1, 'feature_fraction': 0.9}. Best is trial 1 with value: 28.09636584666684.\u001b[0m\n",
            "\u001b[32m[I 2021-11-02 19:05:50,146]\u001b[0m Trial 3 finished with value: 28.122763128819077 and parameters: {'n_estimators': 1954, 'learning_rate': 0.09009950810188369, 'num_leaves': 1120, 'max_depth': 4, 'min_data_in_leaf': 9500, 'max_bin': 239, 'lambda_l1': 95, 'lambda_l2': 90, 'min_gain_to_split': 12.513133060775258, 'bagging_fraction': 0.9, 'bagging_freq': 1, 'feature_fraction': 0.9}. Best is trial 1 with value: 28.09636584666684.\u001b[0m\n",
            "\u001b[32m[I 2021-11-02 19:05:51,538]\u001b[0m Trial 4 finished with value: 29.459248063949854 and parameters: {'n_estimators': 1056, 'learning_rate': 0.08852418371326397, 'num_leaves': 2180, 'max_depth': 9, 'min_data_in_leaf': 9100, 'max_bin': 244, 'lambda_l1': 75, 'lambda_l2': 80, 'min_gain_to_split': 6.243212180731279, 'bagging_fraction': 0.2, 'bagging_freq': 1, 'feature_fraction': 0.30000000000000004}. Best is trial 1 with value: 28.09636584666684.\u001b[0m\n",
            "\u001b[32m[I 2021-11-02 19:06:19,949]\u001b[0m Trial 5 finished with value: 27.972640172641047 and parameters: {'n_estimators': 1397, 'learning_rate': 0.010096402279143872, 'num_leaves': 1780, 'max_depth': 7, 'min_data_in_leaf': 300, 'max_bin': 211, 'lambda_l1': 20, 'lambda_l2': 85, 'min_gain_to_split': 3.3992689333144317, 'bagging_fraction': 0.7, 'bagging_freq': 1, 'feature_fraction': 0.6000000000000001}. Best is trial 5 with value: 27.972640172641047.\u001b[0m\n",
            "\u001b[32m[I 2021-11-02 19:06:24,535]\u001b[0m Trial 6 finished with value: 28.19696477875838 and parameters: {'n_estimators': 1160, 'learning_rate': 0.2889157165397275, 'num_leaves': 360, 'max_depth': 4, 'min_data_in_leaf': 9600, 'max_bin': 245, 'lambda_l1': 65, 'lambda_l2': 15, 'min_gain_to_split': 12.456515306861338, 'bagging_fraction': 0.7, 'bagging_freq': 1, 'feature_fraction': 0.5}. Best is trial 5 with value: 27.972640172641047.\u001b[0m\n",
            "\u001b[32m[I 2021-11-02 19:06:28,720]\u001b[0m Trial 7 finished with value: 28.048837257002173 and parameters: {'n_estimators': 2617, 'learning_rate': 0.24859094159341083, 'num_leaves': 1200, 'max_depth': 12, 'min_data_in_leaf': 4400, 'max_bin': 212, 'lambda_l1': 30, 'lambda_l2': 35, 'min_gain_to_split': 9.116014858502636, 'bagging_fraction': 0.9, 'bagging_freq': 1, 'feature_fraction': 0.8}. Best is trial 5 with value: 27.972640172641047.\u001b[0m\n",
            "\u001b[32m[I 2021-11-02 19:06:38,590]\u001b[0m Trial 8 finished with value: 28.521195469826353 and parameters: {'n_estimators': 2499, 'learning_rate': 0.019765970496300744, 'num_leaves': 780, 'max_depth': 8, 'min_data_in_leaf': 7200, 'max_bin': 255, 'lambda_l1': 95, 'lambda_l2': 75, 'min_gain_to_split': 6.563572735058364, 'bagging_fraction': 0.30000000000000004, 'bagging_freq': 1, 'feature_fraction': 0.8}. Best is trial 5 with value: 27.972640172641047.\u001b[0m\n",
            "\u001b[32m[I 2021-11-02 19:06:42,600]\u001b[0m Trial 9 finished with value: 28.06945497325695 and parameters: {'n_estimators': 1094, 'learning_rate': 0.24266523950833446, 'num_leaves': 720, 'max_depth': 12, 'min_data_in_leaf': 6000, 'max_bin': 276, 'lambda_l1': 0, 'lambda_l2': 15, 'min_gain_to_split': 4.630962983754081, 'bagging_fraction': 0.9, 'bagging_freq': 1, 'feature_fraction': 0.8}. Best is trial 5 with value: 27.972640172641047.\u001b[0m\n",
            "\u001b[32m[I 2021-11-02 19:06:48,602]\u001b[0m Trial 10 finished with value: 28.02262337677545 and parameters: {'n_estimators': 1634, 'learning_rate': 0.14495509134982648, 'num_leaves': 1840, 'max_depth': 6, 'min_data_in_leaf': 400, 'max_bin': 201, 'lambda_l1': 10, 'lambda_l2': 55, 'min_gain_to_split': 0.34571499847412923, 'bagging_fraction': 0.4, 'bagging_freq': 1, 'feature_fraction': 0.5}. Best is trial 5 with value: 27.972640172641047.\u001b[0m\n",
            "\u001b[32m[I 2021-11-02 19:06:54,628]\u001b[0m Trial 11 finished with value: 28.03232344073915 and parameters: {'n_estimators': 1552, 'learning_rate': 0.15208156716661655, 'num_leaves': 1760, 'max_depth': 6, 'min_data_in_leaf': 200, 'max_bin': 204, 'lambda_l1': 5, 'lambda_l2': 55, 'min_gain_to_split': 0.2724697303723015, 'bagging_fraction': 0.4, 'bagging_freq': 1, 'feature_fraction': 0.5}. Best is trial 5 with value: 27.972640172641047.\u001b[0m\n",
            "\u001b[32m[I 2021-11-02 19:07:00,656]\u001b[0m Trial 12 finished with value: 28.01284771267067 and parameters: {'n_estimators': 1725, 'learning_rate': 0.14486800408848394, 'num_leaves': 3000, 'max_depth': 6, 'min_data_in_leaf': 200, 'max_bin': 223, 'lambda_l1': 20, 'lambda_l2': 50, 'min_gain_to_split': 0.1254203952302788, 'bagging_fraction': 0.5, 'bagging_freq': 1, 'feature_fraction': 0.6000000000000001}. Best is trial 5 with value: 27.972640172641047.\u001b[0m\n",
            "\u001b[32m[I 2021-11-02 19:07:07,705]\u001b[0m Trial 13 finished with value: 28.036178106279607 and parameters: {'n_estimators': 1605, 'learning_rate': 0.09848304719498382, 'num_leaves': 2980, 'max_depth': 6, 'min_data_in_leaf': 2400, 'max_bin': 226, 'lambda_l1': 25, 'lambda_l2': 35, 'min_gain_to_split': 2.7755421273106315, 'bagging_fraction': 0.5, 'bagging_freq': 1, 'feature_fraction': 0.6000000000000001}. Best is trial 5 with value: 27.972640172641047.\u001b[0m\n",
            "\u001b[32m[I 2021-11-02 19:07:12,455]\u001b[0m Trial 14 finished with value: 28.022754227638103 and parameters: {'n_estimators': 2133, 'learning_rate': 0.18611934084895643, 'num_leaves': 3000, 'max_depth': 10, 'min_data_in_leaf': 2100, 'max_bin': 226, 'lambda_l1': 20, 'lambda_l2': 35, 'min_gain_to_split': 3.277859925886113, 'bagging_fraction': 0.7, 'bagging_freq': 1, 'feature_fraction': 0.6000000000000001}. Best is trial 5 with value: 27.972640172641047.\u001b[0m\n",
            "\u001b[32m[I 2021-11-02 19:07:21,297]\u001b[0m Trial 15 finished with value: 28.00913161986721 and parameters: {'n_estimators': 1866, 'learning_rate': 0.05774026808220664, 'num_leaves': 2580, 'max_depth': 5, 'min_data_in_leaf': 2000, 'max_bin': 225, 'lambda_l1': 55, 'lambda_l2': 65, 'min_gain_to_split': 2.084510821648017, 'bagging_fraction': 0.6000000000000001, 'bagging_freq': 1, 'feature_fraction': 0.7}. Best is trial 5 with value: 27.972640172641047.\u001b[0m\n",
            "\u001b[32m[I 2021-11-02 19:07:30,042]\u001b[0m Trial 16 finished with value: 28.013020312718634 and parameters: {'n_estimators': 2906, 'learning_rate': 0.05108397871259786, 'num_leaves': 2440, 'max_depth': 4, 'min_data_in_leaf': 2400, 'max_bin': 261, 'lambda_l1': 55, 'lambda_l2': 65, 'min_gain_to_split': 2.6723307011207913, 'bagging_fraction': 0.6000000000000001, 'bagging_freq': 1, 'feature_fraction': 0.7}. Best is trial 5 with value: 27.972640172641047.\u001b[0m\n",
            "\u001b[32m[I 2021-11-02 19:07:53,134]\u001b[0m Trial 17 finished with value: 28.042873233214486 and parameters: {'n_estimators': 1342, 'learning_rate': 0.01455270998278723, 'num_leaves': 2080, 'max_depth': 5, 'min_data_in_leaf': 3900, 'max_bin': 233, 'lambda_l1': 45, 'lambda_l2': 90, 'min_gain_to_split': 4.722139001879665, 'bagging_fraction': 0.8, 'bagging_freq': 1, 'feature_fraction': 0.4}. Best is trial 5 with value: 27.972640172641047.\u001b[0m\n",
            "\u001b[32m[I 2021-11-02 19:08:00,990]\u001b[0m Trial 18 finished with value: 27.987134618978057 and parameters: {'n_estimators': 1876, 'learning_rate': 0.05902296139690981, 'num_leaves': 1300, 'max_depth': 8, 'min_data_in_leaf': 1500, 'max_bin': 300, 'lambda_l1': 35, 'lambda_l2': 85, 'min_gain_to_split': 2.0365430066218853, 'bagging_fraction': 0.8, 'bagging_freq': 1, 'feature_fraction': 0.7}. Best is trial 5 with value: 27.972640172641047.\u001b[0m\n",
            "\u001b[32m[I 2021-11-02 19:08:06,911]\u001b[0m Trial 19 finished with value: 27.999955114742487 and parameters: {'n_estimators': 2225, 'learning_rate': 0.11750363310289365, 'num_leaves': 1420, 'max_depth': 10, 'min_data_in_leaf': 1200, 'max_bin': 294, 'lambda_l1': 40, 'lambda_l2': 100, 'min_gain_to_split': 4.954988785354157, 'bagging_fraction': 0.8, 'bagging_freq': 1, 'feature_fraction': 0.7}. Best is trial 5 with value: 27.972640172641047.\u001b[0m\n",
            "\u001b[32m[I 2021-11-02 19:08:25,179]\u001b[0m Trial 20 finished with value: 28.052466487733625 and parameters: {'n_estimators': 1448, 'learning_rate': 0.06318606657822001, 'num_leaves': 160, 'max_depth': 8, 'min_data_in_leaf': 3500, 'max_bin': 298, 'lambda_l1': 30, 'lambda_l2': 85, 'min_gain_to_split': 8.842435851586728, 'bagging_fraction': 0.8, 'bagging_freq': 1, 'feature_fraction': 0.2}. Best is trial 5 with value: 27.972640172641047.\u001b[0m\n",
            "\u001b[32m[I 2021-11-02 19:08:30,809]\u001b[0m Trial 21 finished with value: 28.006956468018224 and parameters: {'n_estimators': 2302, 'learning_rate': 0.11815341180360531, 'num_leaves': 1340, 'max_depth': 10, 'min_data_in_leaf': 1400, 'max_bin': 293, 'lambda_l1': 40, 'lambda_l2': 100, 'min_gain_to_split': 4.571748505928895, 'bagging_fraction': 0.8, 'bagging_freq': 1, 'feature_fraction': 0.7}. Best is trial 5 with value: 27.972640172641047.\u001b[0m\n",
            "\u001b[32m[I 2021-11-02 19:08:42,136]\u001b[0m Trial 22 finished with value: 27.991298703220064 and parameters: {'n_estimators': 2337, 'learning_rate': 0.030652955228633254, 'num_leaves': 1480, 'max_depth': 10, 'min_data_in_leaf': 1200, 'max_bin': 286, 'lambda_l1': 15, 'lambda_l2': 100, 'min_gain_to_split': 1.5886457342645954, 'bagging_fraction': 0.8, 'bagging_freq': 1, 'feature_fraction': 0.7}. Best is trial 5 with value: 27.972640172641047.\u001b[0m\n",
            "\u001b[32m[I 2021-11-02 19:08:55,854]\u001b[0m Trial 23 finished with value: 27.987903832778823 and parameters: {'n_estimators': 1819, 'learning_rate': 0.026152669989451687, 'num_leaves': 980, 'max_depth': 11, 'min_data_in_leaf': 1200, 'max_bin': 289, 'lambda_l1': 15, 'lambda_l2': 90, 'min_gain_to_split': 1.5295655489189324, 'bagging_fraction': 0.7, 'bagging_freq': 1, 'feature_fraction': 0.6000000000000001}. Best is trial 5 with value: 27.972640172641047.\u001b[0m\n",
            "\u001b[32m[I 2021-11-02 19:09:29,111]\u001b[0m Trial 24 finished with value: 28.037071835219468 and parameters: {'n_estimators': 1817, 'learning_rate': 0.012041290408751824, 'num_leaves': 900, 'max_depth': 11, 'min_data_in_leaf': 3400, 'max_bin': 286, 'lambda_l1': 30, 'lambda_l2': 85, 'min_gain_to_split': 3.6745438104507047, 'bagging_fraction': 0.7, 'bagging_freq': 1, 'feature_fraction': 0.4}. Best is trial 5 with value: 27.972640172641047.\u001b[0m\n",
            "\u001b[32m[I 2021-11-02 19:09:35,860]\u001b[0m Trial 25 finished with value: 28.07235534039818 and parameters: {'n_estimators': 1920, 'learning_rate': 0.07192871726085337, 'num_leaves': 540, 'max_depth': 7, 'min_data_in_leaf': 5200, 'max_bin': 300, 'lambda_l1': 10, 'lambda_l2': 90, 'min_gain_to_split': 1.700990741387279, 'bagging_fraction': 0.7, 'bagging_freq': 1, 'feature_fraction': 0.6000000000000001}. Best is trial 5 with value: 27.972640172641047.\u001b[0m\n",
            "\u001b[32m[I 2021-11-02 19:09:49,663]\u001b[0m Trial 26 finished with value: 28.028195097891437 and parameters: {'n_estimators': 1413, 'learning_rate': 0.034556162117693606, 'num_leaves': 1000, 'max_depth': 9, 'min_data_in_leaf': 2800, 'max_bin': 285, 'lambda_l1': 20, 'lambda_l2': 75, 'min_gain_to_split': 1.3261997032761839, 'bagging_fraction': 0.6000000000000001, 'bagging_freq': 1, 'feature_fraction': 0.4}. Best is trial 5 with value: 27.972640172641047.\u001b[0m\n",
            "\u001b[32m[I 2021-11-02 19:09:57,468]\u001b[0m Trial 27 finished with value: 27.998364360569337 and parameters: {'n_estimators': 1776, 'learning_rate': 0.07725421151219321, 'num_leaves': 1620, 'max_depth': 11, 'min_data_in_leaf': 1000, 'max_bin': 262, 'lambda_l1': 35, 'lambda_l2': 80, 'min_gain_to_split': 6.121783141046152, 'bagging_fraction': 0.7, 'bagging_freq': 1, 'feature_fraction': 0.5}. Best is trial 5 with value: 27.972640172641047.\u001b[0m\n",
            "\u001b[32m[I 2021-11-02 19:10:08,750]\u001b[0m Trial 28 finished with value: 28.013118856496032 and parameters: {'n_estimators': 1492, 'learning_rate': 0.03916027633916124, 'num_leaves': 1900, 'max_depth': 8, 'min_data_in_leaf': 1700, 'max_bin': 267, 'lambda_l1': 0, 'lambda_l2': 65, 'min_gain_to_split': 3.7311554160953713, 'bagging_fraction': 0.5, 'bagging_freq': 1, 'feature_fraction': 0.6000000000000001}. Best is trial 5 with value: 27.972640172641047.\u001b[0m\n",
            "\u001b[32m[I 2021-11-02 19:10:16,433]\u001b[0m Trial 29 finished with value: 27.98353538713125 and parameters: {'n_estimators': 1266, 'learning_rate': 0.048961672641044854, 'num_leaves': 1220, 'max_depth': 7, 'min_data_in_leaf': 800, 'max_bin': 278, 'lambda_l1': 10, 'lambda_l2': 45, 'min_gain_to_split': 0.791945465372446, 'bagging_fraction': 0.8, 'bagging_freq': 1, 'feature_fraction': 0.7}. Best is trial 5 with value: 27.972640172641047.\u001b[0m\n",
            "\u001b[32m[I 2021-11-02 19:10:22,679]\u001b[0m Trial 30 finished with value: 28.013863621914986 and parameters: {'n_estimators': 1279, 'learning_rate': 0.1093843868380846, 'num_leaves': 1260, 'max_depth': 7, 'min_data_in_leaf': 2900, 'max_bin': 280, 'lambda_l1': 50, 'lambda_l2': 40, 'min_gain_to_split': 7.785269306960567, 'bagging_fraction': 0.8, 'bagging_freq': 1, 'feature_fraction': 0.8}. Best is trial 5 with value: 27.972640172641047.\u001b[0m\n",
            "\u001b[32m[I 2021-11-02 19:10:30,480]\u001b[0m Trial 31 finished with value: 27.977618940307288 and parameters: {'n_estimators': 1680, 'learning_rate': 0.04672910644304974, 'num_leaves': 1560, 'max_depth': 7, 'min_data_in_leaf': 800, 'max_bin': 293, 'lambda_l1': 10, 'lambda_l2': 45, 'min_gain_to_split': 1.204157377478214, 'bagging_fraction': 0.8, 'bagging_freq': 1, 'feature_fraction': 0.7}. Best is trial 5 with value: 27.972640172641047.\u001b[0m\n",
            "\u001b[32m[I 2021-11-02 19:10:39,607]\u001b[0m Trial 32 finished with value: 27.978492465181326 and parameters: {'n_estimators': 1174, 'learning_rate': 0.0411257927031784, 'num_leaves': 1600, 'max_depth': 7, 'min_data_in_leaf': 800, 'max_bin': 277, 'lambda_l1': 10, 'lambda_l2': 45, 'min_gain_to_split': 0.9775142089820592, 'bagging_fraction': 0.9, 'bagging_freq': 1, 'feature_fraction': 0.7}. Best is trial 5 with value: 27.972640172641047.\u001b[0m\n",
            "\u001b[32m[I 2021-11-02 19:10:49,040]\u001b[0m Trial 33 finished with value: 27.983676377754467 and parameters: {'n_estimators': 1231, 'learning_rate': 0.04587297285002129, 'num_leaves': 1620, 'max_depth': 7, 'min_data_in_leaf': 600, 'max_bin': 276, 'lambda_l1': 5, 'lambda_l2': 45, 'min_gain_to_split': 0.7040395886142261, 'bagging_fraction': 0.9, 'bagging_freq': 1, 'feature_fraction': 0.9}. Best is trial 5 with value: 27.972640172641047.\u001b[0m\n",
            "\u001b[32m[I 2021-11-02 19:10:54,764]\u001b[0m Trial 34 finished with value: 27.969208095762667 and parameters: {'n_estimators': 1178, 'learning_rate': 0.08027465188986883, 'num_leaves': 1940, 'max_depth': 5, 'min_data_in_leaf': 600, 'max_bin': 270, 'lambda_l1': 10, 'lambda_l2': 25, 'min_gain_to_split': 0.8748459719404886, 'bagging_fraction': 0.9, 'bagging_freq': 1, 'feature_fraction': 0.8}. Best is trial 34 with value: 27.969208095762667.\u001b[0m\n",
            "\u001b[32m[I 2021-11-02 19:11:00,702]\u001b[0m Trial 35 finished with value: 27.96644392447913 and parameters: {'n_estimators': 1001, 'learning_rate': 0.08863716806922972, 'num_leaves': 2000, 'max_depth': 3, 'min_data_in_leaf': 700, 'max_bin': 270, 'lambda_l1': 0, 'lambda_l2': 25, 'min_gain_to_split': 2.521022303350203, 'bagging_fraction': 0.9, 'bagging_freq': 1, 'feature_fraction': 0.8}. Best is trial 35 with value: 27.96644392447913.\u001b[0m\n",
            "\u001b[32m[I 2021-11-02 19:11:07,051]\u001b[0m Trial 36 finished with value: 27.982401601195164 and parameters: {'n_estimators': 1045, 'learning_rate': 0.07997918300103463, 'num_leaves': 2080, 'max_depth': 3, 'min_data_in_leaf': 1700, 'max_bin': 251, 'lambda_l1': 15, 'lambda_l2': 25, 'min_gain_to_split': 2.8698080802243586, 'bagging_fraction': 0.9, 'bagging_freq': 1, 'feature_fraction': 0.9}. Best is trial 35 with value: 27.96644392447913.\u001b[0m\n",
            "\u001b[32m[I 2021-11-02 19:11:11,663]\u001b[0m Trial 37 finished with value: 27.96497243780633 and parameters: {'n_estimators': 1003, 'learning_rate': 0.13123138911099663, 'num_leaves': 2020, 'max_depth': 3, 'min_data_in_leaf': 200, 'max_bin': 265, 'lambda_l1': 0, 'lambda_l2': 5, 'min_gain_to_split': 13.972122149474991, 'bagging_fraction': 0.9, 'bagging_freq': 1, 'feature_fraction': 0.8}. Best is trial 37 with value: 27.96497243780633.\u001b[0m\n",
            "\u001b[32m[I 2021-11-02 19:11:17,051]\u001b[0m Trial 38 finished with value: 28.09530364105804 and parameters: {'n_estimators': 1016, 'learning_rate': 0.18025349564623624, 'num_leaves': 2220, 'max_depth': 3, 'min_data_in_leaf': 7900, 'max_bin': 270, 'lambda_l1': 0, 'lambda_l2': 0, 'min_gain_to_split': 14.616635568921776, 'bagging_fraction': 0.9, 'bagging_freq': 1, 'feature_fraction': 0.8}. Best is trial 37 with value: 27.96497243780633.\u001b[0m\n",
            "\u001b[32m[I 2021-11-02 19:11:22,396]\u001b[0m Trial 39 finished with value: 28.066531363286128 and parameters: {'n_estimators': 1163, 'learning_rate': 0.1347151519145867, 'num_leaves': 1980, 'max_depth': 3, 'min_data_in_leaf': 6400, 'max_bin': 257, 'lambda_l1': 85, 'lambda_l2': 15, 'min_gain_to_split': 11.95741759471614, 'bagging_fraction': 0.9, 'bagging_freq': 1, 'feature_fraction': 0.9}. Best is trial 37 with value: 27.96497243780633.\u001b[0m\n",
            "\u001b[32m[I 2021-11-02 19:11:26,454]\u001b[0m Trial 40 finished with value: 27.96892563638708 and parameters: {'n_estimators': 1370, 'learning_rate': 0.17073779891944138, 'num_leaves': 2460, 'max_depth': 4, 'min_data_in_leaf': 400, 'max_bin': 246, 'lambda_l1': 25, 'lambda_l2': 25, 'min_gain_to_split': 11.055013294128665, 'bagging_fraction': 0.9, 'bagging_freq': 1, 'feature_fraction': 0.8}. Best is trial 37 with value: 27.96497243780633.\u001b[0m\n",
            "\u001b[32m[I 2021-11-02 19:11:30,229]\u001b[0m Trial 41 finished with value: 27.976361549615092 and parameters: {'n_estimators': 1362, 'learning_rate': 0.1817261069280948, 'num_leaves': 2640, 'max_depth': 4, 'min_data_in_leaf': 200, 'max_bin': 245, 'lambda_l1': 5, 'lambda_l2': 25, 'min_gain_to_split': 11.085614680740326, 'bagging_fraction': 0.9, 'bagging_freq': 1, 'feature_fraction': 0.8}. Best is trial 37 with value: 27.96497243780633.\u001b[0m\n",
            "\u001b[32m[I 2021-11-02 19:11:34,058]\u001b[0m Trial 42 finished with value: 27.979755692458536 and parameters: {'n_estimators': 1119, 'learning_rate': 0.2147209642067564, 'num_leaves': 2340, 'max_depth': 4, 'min_data_in_leaf': 600, 'max_bin': 265, 'lambda_l1': 0, 'lambda_l2': 10, 'min_gain_to_split': 13.928094601781238, 'bagging_fraction': 0.9, 'bagging_freq': 1, 'feature_fraction': 0.9}. Best is trial 37 with value: 27.96497243780633.\u001b[0m\n",
            "\u001b[32m[I 2021-11-02 19:11:38,254]\u001b[0m Trial 43 finished with value: 27.984144342195982 and parameters: {'n_estimators': 1006, 'learning_rate': 0.1653873481040643, 'num_leaves': 2740, 'max_depth': 5, 'min_data_in_leaf': 200, 'max_bin': 214, 'lambda_l1': 25, 'lambda_l2': 25, 'min_gain_to_split': 10.700954973642958, 'bagging_fraction': 0.9, 'bagging_freq': 1, 'feature_fraction': 0.8}. Best is trial 37 with value: 27.96497243780633.\u001b[0m\n",
            "\u001b[32m[I 2021-11-02 19:11:43,191]\u001b[0m Trial 44 finished with value: 27.984923990232403 and parameters: {'n_estimators': 1291, 'learning_rate': 0.13285365926535325, 'num_leaves': 1760, 'max_depth': 3, 'min_data_in_leaf': 1900, 'max_bin': 272, 'lambda_l1': 5, 'lambda_l2': 20, 'min_gain_to_split': 13.258404901771549, 'bagging_fraction': 0.9, 'bagging_freq': 1, 'feature_fraction': 0.8}. Best is trial 37 with value: 27.96497243780633.\u001b[0m\n",
            "\u001b[32m[I 2021-11-02 19:11:49,974]\u001b[0m Trial 45 finished with value: 28.033653842466947 and parameters: {'n_estimators': 1530, 'learning_rate': 0.09389297200916871, 'num_leaves': 2220, 'max_depth': 5, 'min_data_in_leaf': 4700, 'max_bin': 252, 'lambda_l1': 20, 'lambda_l2': 5, 'min_gain_to_split': 9.729881699689711, 'bagging_fraction': 0.9, 'bagging_freq': 1, 'feature_fraction': 0.9}. Best is trial 37 with value: 27.96497243780633.\u001b[0m\n",
            "\u001b[32m[I 2021-11-02 19:11:53,704]\u001b[0m Trial 46 finished with value: 28.018037235561756 and parameters: {'n_estimators': 1159, 'learning_rate': 0.2031457112887498, 'num_leaves': 2400, 'max_depth': 4, 'min_data_in_leaf': 2400, 'max_bin': 233, 'lambda_l1': 25, 'lambda_l2': 30, 'min_gain_to_split': 11.352567358596097, 'bagging_fraction': 0.8, 'bagging_freq': 1, 'feature_fraction': 0.8}. Best is trial 37 with value: 27.96497243780633.\u001b[0m\n",
            "\u001b[32m[I 2021-11-02 19:11:58,116]\u001b[0m Trial 47 finished with value: 27.962685246096072 and parameters: {'n_estimators': 1104, 'learning_rate': 0.15861147822798216, 'num_leaves': 1960, 'max_depth': 3, 'min_data_in_leaf': 700, 'max_bin': 257, 'lambda_l1': 0, 'lambda_l2': 10, 'min_gain_to_split': 7.844938118795015, 'bagging_fraction': 0.9, 'bagging_freq': 1, 'feature_fraction': 0.9}. Best is trial 47 with value: 27.962685246096072.\u001b[0m\n",
            "\u001b[32m[I 2021-11-02 19:12:02,196]\u001b[0m Trial 48 finished with value: 27.968851367628282 and parameters: {'n_estimators': 1090, 'learning_rate': 0.16205590855015387, 'num_leaves': 2000, 'max_depth': 3, 'min_data_in_leaf': 700, 'max_bin': 241, 'lambda_l1': 0, 'lambda_l2': 10, 'min_gain_to_split': 8.155318021757285, 'bagging_fraction': 0.9, 'bagging_freq': 1, 'feature_fraction': 0.9}. Best is trial 47 with value: 27.962685246096072.\u001b[0m\n",
            "\u001b[32m[I 2021-11-02 19:12:06,138]\u001b[0m Trial 49 finished with value: 28.068899835793086 and parameters: {'n_estimators': 1088, 'learning_rate': 0.17371786416834073, 'num_leaves': 2100, 'max_depth': 3, 'min_data_in_leaf': 1500, 'max_bin': 240, 'lambda_l1': 0, 'lambda_l2': 0, 'min_gain_to_split': 7.073671930825178, 'bagging_fraction': 0.2, 'bagging_freq': 1, 'feature_fraction': 0.9}. Best is trial 47 with value: 27.962685246096072.\u001b[0m\n",
            "\u001b[32m[I 2021-11-02 19:12:10,630]\u001b[0m Trial 50 finished with value: 28.099959141419475 and parameters: {'n_estimators': 1006, 'learning_rate': 0.1585246824220964, 'num_leaves': 2800, 'max_depth': 3, 'min_data_in_leaf': 2800, 'max_bin': 257, 'lambda_l1': 5, 'lambda_l2': 10, 'min_gain_to_split': 8.230188269195938, 'bagging_fraction': 0.30000000000000004, 'bagging_freq': 1, 'feature_fraction': 0.9}. Best is trial 47 with value: 27.962685246096072.\u001b[0m\n",
            "\u001b[32m[I 2021-11-02 19:12:14,174]\u001b[0m Trial 51 finished with value: 27.984009652896418 and parameters: {'n_estimators': 1213, 'learning_rate': 0.20655232428262704, 'num_leaves': 2000, 'max_depth': 4, 'min_data_in_leaf': 600, 'max_bin': 249, 'lambda_l1': 5, 'lambda_l2': 10, 'min_gain_to_split': 9.926190574958241, 'bagging_fraction': 0.9, 'bagging_freq': 1, 'feature_fraction': 0.8}. Best is trial 47 with value: 27.962685246096072.\u001b[0m\n",
            "\u001b[32m[I 2021-11-02 19:12:18,804]\u001b[0m Trial 52 finished with value: 27.983962032115063 and parameters: {'n_estimators': 1125, 'learning_rate': 0.13219356332499932, 'num_leaves': 1880, 'max_depth': 4, 'min_data_in_leaf': 1000, 'max_bin': 260, 'lambda_l1': 0, 'lambda_l2': 20, 'min_gain_to_split': 5.6986763059615875, 'bagging_fraction': 0.9, 'bagging_freq': 1, 'feature_fraction': 0.9}. Best is trial 47 with value: 27.962685246096072.\u001b[0m\n",
            "\u001b[32m[I 2021-11-02 19:12:23,542]\u001b[0m Trial 53 finished with value: 27.966610274797254 and parameters: {'n_estimators': 1341, 'learning_rate': 0.10759831162682673, 'num_leaves': 2460, 'max_depth': 3, 'min_data_in_leaf': 400, 'max_bin': 239, 'lambda_l1': 15, 'lambda_l2': 5, 'min_gain_to_split': 8.732633060120847, 'bagging_fraction': 0.8, 'bagging_freq': 1, 'feature_fraction': 0.8}. Best is trial 47 with value: 27.962685246096072.\u001b[0m\n",
            "\u001b[32m[I 2021-11-02 19:12:28,633]\u001b[0m Trial 54 finished with value: 27.96221841852152 and parameters: {'n_estimators': 1332, 'learning_rate': 0.10541928101570486, 'num_leaves': 2440, 'max_depth': 3, 'min_data_in_leaf': 200, 'max_bin': 236, 'lambda_l1': 15, 'lambda_l2': 0, 'min_gain_to_split': 8.511507284309271, 'bagging_fraction': 0.8, 'bagging_freq': 1, 'feature_fraction': 0.9}. Best is trial 54 with value: 27.96221841852152.\u001b[0m\n",
            "\u001b[32m[I 2021-11-02 19:12:33,797]\u001b[0m Trial 55 finished with value: 27.97328390757009 and parameters: {'n_estimators': 1088, 'learning_rate': 0.1096125365893424, 'num_leaves': 2280, 'max_depth': 3, 'min_data_in_leaf': 1100, 'max_bin': 236, 'lambda_l1': 15, 'lambda_l2': 5, 'min_gain_to_split': 8.692058869313332, 'bagging_fraction': 0.8, 'bagging_freq': 1, 'feature_fraction': 0.9}. Best is trial 54 with value: 27.96221841852152.\u001b[0m\n",
            "\u001b[32m[I 2021-11-02 19:12:38,056]\u001b[0m Trial 56 finished with value: 27.98955033677159 and parameters: {'n_estimators': 1293, 'learning_rate': 0.15151376270979766, 'num_leaves': 2560, 'max_depth': 3, 'min_data_in_leaf': 2200, 'max_bin': 240, 'lambda_l1': 0, 'lambda_l2': 0, 'min_gain_to_split': 7.1461139881894935, 'bagging_fraction': 0.8, 'bagging_freq': 1, 'feature_fraction': 0.9}. Best is trial 54 with value: 27.96221841852152.\u001b[0m\n",
            "\u001b[32m[I 2021-11-02 19:12:43,419]\u001b[0m Trial 57 finished with value: 27.97812158652663 and parameters: {'n_estimators': 1483, 'learning_rate': 0.10157257213301756, 'num_leaves': 2160, 'max_depth': 3, 'min_data_in_leaf': 1400, 'max_bin': 229, 'lambda_l1': 5, 'lambda_l2': 5, 'min_gain_to_split': 9.444035721028749, 'bagging_fraction': 0.8, 'bagging_freq': 1, 'feature_fraction': 0.9}. Best is trial 54 with value: 27.96221841852152.\u001b[0m\n",
            "\u001b[32m[I 2021-11-02 19:12:50,185]\u001b[0m Trial 58 finished with value: 28.17495426920926 and parameters: {'n_estimators': 1064, 'learning_rate': 0.12587703382915116, 'num_leaves': 2840, 'max_depth': 4, 'min_data_in_leaf': 8900, 'max_bin': 242, 'lambda_l1': 15, 'lambda_l2': 15, 'min_gain_to_split': 8.016174437751127, 'bagging_fraction': 0.7, 'bagging_freq': 1, 'feature_fraction': 0.9}. Best is trial 54 with value: 27.96221841852152.\u001b[0m\n",
            "\u001b[32m[I 2021-11-02 19:12:54,490]\u001b[0m Trial 59 finished with value: 27.969454195457455 and parameters: {'n_estimators': 1594, 'learning_rate': 0.14475484827165763, 'num_leaves': 1800, 'max_depth': 3, 'min_data_in_leaf': 200, 'max_bin': 236, 'lambda_l1': 65, 'lambda_l2': 10, 'min_gain_to_split': 6.741607988930472, 'bagging_fraction': 0.8, 'bagging_freq': 1, 'feature_fraction': 0.8}. Best is trial 54 with value: 27.96221841852152.\u001b[0m\n",
            "\u001b[32m[I 2021-11-02 19:12:59,813]\u001b[0m Trial 60 finished with value: 27.987562477529526 and parameters: {'n_estimators': 2863, 'learning_rate': 0.12010864611419861, 'num_leaves': 2460, 'max_depth': 3, 'min_data_in_leaf': 1800, 'max_bin': 220, 'lambda_l1': 10, 'lambda_l2': 0, 'min_gain_to_split': 5.579552162509026, 'bagging_fraction': 0.8, 'bagging_freq': 1, 'feature_fraction': 0.8}. Best is trial 54 with value: 27.96221841852152.\u001b[0m\n",
            "\u001b[32m[I 2021-11-02 19:13:03,494]\u001b[0m Trial 61 finished with value: 27.98605575301309 and parameters: {'n_estimators': 1423, 'learning_rate': 0.1955623970012137, 'num_leaves': 2500, 'max_depth': 4, 'min_data_in_leaf': 500, 'max_bin': 247, 'lambda_l1': 20, 'lambda_l2': 20, 'min_gain_to_split': 8.366415973133016, 'bagging_fraction': 0.9, 'bagging_freq': 1, 'feature_fraction': 0.8}. Best is trial 54 with value: 27.96221841852152.\u001b[0m\n",
            "\u001b[32m[I 2021-11-02 19:13:07,364]\u001b[0m Trial 62 finished with value: 27.98552770821299 and parameters: {'n_estimators': 1345, 'learning_rate': 0.22871563208660725, 'num_leaves': 2700, 'max_depth': 4, 'min_data_in_leaf': 900, 'max_bin': 253, 'lambda_l1': 5, 'lambda_l2': 5, 'min_gain_to_split': 7.556829956934125, 'bagging_fraction': 0.9, 'bagging_freq': 1, 'feature_fraction': 0.8}. Best is trial 54 with value: 27.96221841852152.\u001b[0m\n",
            "\u001b[32m[I 2021-11-02 19:13:11,603]\u001b[0m Trial 63 finished with value: 27.965145787968044 and parameters: {'n_estimators': 1241, 'learning_rate': 0.1654189303971308, 'num_leaves': 2320, 'max_depth': 3, 'min_data_in_leaf': 400, 'max_bin': 231, 'lambda_l1': 15, 'lambda_l2': 15, 'min_gain_to_split': 10.083845316899993, 'bagging_fraction': 0.9, 'bagging_freq': 1, 'feature_fraction': 0.9}. Best is trial 54 with value: 27.96221841852152.\u001b[0m\n",
            "\u001b[32m[I 2021-11-02 19:13:19,912]\u001b[0m Trial 64 finished with value: 28.143662268190052 and parameters: {'n_estimators': 1230, 'learning_rate': 0.10447818460053045, 'num_leaves': 2360, 'max_depth': 3, 'min_data_in_leaf': 10000, 'max_bin': 230, 'lambda_l1': 15, 'lambda_l2': 15, 'min_gain_to_split': 10.331114075654646, 'bagging_fraction': 0.9, 'bagging_freq': 1, 'feature_fraction': 0.9}. Best is trial 54 with value: 27.96221841852152.\u001b[0m\n",
            "\u001b[32m[I 2021-11-02 19:13:26,020]\u001b[0m Trial 65 finished with value: 27.982335990896036 and parameters: {'n_estimators': 1995, 'learning_rate': 0.08795171618065258, 'num_leaves': 2260, 'max_depth': 3, 'min_data_in_leaf': 1300, 'max_bin': 265, 'lambda_l1': 0, 'lambda_l2': 10, 'min_gain_to_split': 9.144820121373643, 'bagging_fraction': 0.8, 'bagging_freq': 1, 'feature_fraction': 0.9}. Best is trial 54 with value: 27.96221841852152.\u001b[0m\n",
            "\u001b[32m[I 2021-11-02 19:13:33,583]\u001b[0m Trial 66 finished with value: 28.02818360365161 and parameters: {'n_estimators': 1106, 'learning_rate': 0.14476420437444998, 'num_leaves': 2040, 'max_depth': 3, 'min_data_in_leaf': 800, 'max_bin': 237, 'lambda_l1': 5, 'lambda_l2': 5, 'min_gain_to_split': 8.574501204200768, 'bagging_fraction': 0.9, 'bagging_freq': 1, 'feature_fraction': 0.2}. Best is trial 54 with value: 27.96221841852152.\u001b[0m\n",
            "\u001b[32m[I 2021-11-02 19:13:37,837]\u001b[0m Trial 67 finished with value: 27.960431140962235 and parameters: {'n_estimators': 1312, 'learning_rate': 0.1558458766025456, 'num_leaves': 1700, 'max_depth': 4, 'min_data_in_leaf': 400, 'max_bin': 232, 'lambda_l1': 10, 'lambda_l2': 15, 'min_gain_to_split': 12.097152038311517, 'bagging_fraction': 0.8, 'bagging_freq': 1, 'feature_fraction': 0.9}. Best is trial 67 with value: 27.960431140962235.\u001b[0m\n",
            "\u001b[32m[I 2021-11-02 19:13:42,518]\u001b[0m Trial 68 finished with value: 27.982866665526807 and parameters: {'n_estimators': 1300, 'learning_rate': 0.11412332879937503, 'num_leaves': 1700, 'max_depth': 5, 'min_data_in_leaf': 200, 'max_bin': 219, 'lambda_l1': 20, 'lambda_l2': 20, 'min_gain_to_split': 12.873232945623503, 'bagging_fraction': 0.7, 'bagging_freq': 1, 'feature_fraction': 0.9}. Best is trial 67 with value: 27.960431140962235.\u001b[0m\n",
            "\u001b[32m[I 2021-11-02 19:13:52,169]\u001b[0m Trial 69 finished with value: 27.99764949122931 and parameters: {'n_estimators': 1202, 'learning_rate': 0.06591332302046939, 'num_leaves': 1420, 'max_depth': 4, 'min_data_in_leaf': 1500, 'max_bin': 230, 'lambda_l1': 10, 'lambda_l2': 15, 'min_gain_to_split': 11.802569767963858, 'bagging_fraction': 0.8, 'bagging_freq': 1, 'feature_fraction': 0.30000000000000004}. Best is trial 67 with value: 27.960431140962235.\u001b[0m\n",
            "\u001b[32m[I 2021-11-02 19:13:56,473]\u001b[0m Trial 70 finished with value: 27.982838784046987 and parameters: {'n_estimators': 1441, 'learning_rate': 0.14038571315230086, 'num_leaves': 2140, 'max_depth': 4, 'min_data_in_leaf': 1100, 'max_bin': 233, 'lambda_l1': 30, 'lambda_l2': 30, 'min_gain_to_split': 14.998300466442567, 'bagging_fraction': 0.7, 'bagging_freq': 1, 'feature_fraction': 0.7}. Best is trial 67 with value: 27.960431140962235.\u001b[0m\n",
            "\u001b[32m[I 2021-11-02 19:14:00,426]\u001b[0m Trial 71 finished with value: 27.968129070909203 and parameters: {'n_estimators': 1069, 'learning_rate': 0.1547095591362932, 'num_leaves': 1880, 'max_depth': 3, 'min_data_in_leaf': 500, 'max_bin': 227, 'lambda_l1': 15, 'lambda_l2': 10, 'min_gain_to_split': 9.12924894636155, 'bagging_fraction': 0.8, 'bagging_freq': 1, 'feature_fraction': 0.9}. Best is trial 67 with value: 27.960431140962235.\u001b[0m\n",
            "\u001b[32m[I 2021-11-02 19:14:04,456]\u001b[0m Trial 72 finished with value: 27.974398642769888 and parameters: {'n_estimators': 1145, 'learning_rate': 0.15332233336922052, 'num_leaves': 1680, 'max_depth': 3, 'min_data_in_leaf': 400, 'max_bin': 224, 'lambda_l1': 10, 'lambda_l2': 0, 'min_gain_to_split': 13.757615347727043, 'bagging_fraction': 0.8, 'bagging_freq': 1, 'feature_fraction': 0.9}. Best is trial 67 with value: 27.960431140962235.\u001b[0m\n",
            "\u001b[32m[I 2021-11-02 19:14:08,921]\u001b[0m Trial 73 finished with value: 27.966324004404278 and parameters: {'n_estimators': 1244, 'learning_rate': 0.12461493141524344, 'num_leaves': 1840, 'max_depth': 3, 'min_data_in_leaf': 500, 'max_bin': 220, 'lambda_l1': 15, 'lambda_l2': 5, 'min_gain_to_split': 9.172820682926051, 'bagging_fraction': 0.8, 'bagging_freq': 1, 'feature_fraction': 0.9}. Best is trial 67 with value: 27.960431140962235.\u001b[0m\n",
            "\u001b[32m[I 2021-11-02 19:14:14,490]\u001b[0m Trial 74 finished with value: 27.99172840841613 and parameters: {'n_estimators': 1242, 'learning_rate': 0.125331979521195, 'num_leaves': 1820, 'max_depth': 3, 'min_data_in_leaf': 1000, 'max_bin': 204, 'lambda_l1': 25, 'lambda_l2': 5, 'min_gain_to_split': 10.094012654919633, 'bagging_fraction': 0.4, 'bagging_freq': 1, 'feature_fraction': 0.8}. Best is trial 67 with value: 27.960431140962235.\u001b[0m\n",
            "\u001b[32m[I 2021-11-02 19:14:19,297]\u001b[0m Trial 75 finished with value: 28.067227574457085 and parameters: {'n_estimators': 1327, 'learning_rate': 0.273738800299934, 'num_leaves': 2340, 'max_depth': 4, 'min_data_in_leaf': 5500, 'max_bin': 220, 'lambda_l1': 10, 'lambda_l2': 15, 'min_gain_to_split': 9.5061466103429, 'bagging_fraction': 0.8, 'bagging_freq': 1, 'feature_fraction': 0.9}. Best is trial 67 with value: 27.960431140962235.\u001b[0m\n",
            "\u001b[32m[I 2021-11-02 19:14:25,322]\u001b[0m Trial 76 finished with value: 27.979613698700568 and parameters: {'n_estimators': 1382, 'learning_rate': 0.09079576132698837, 'num_leaves': 2580, 'max_depth': 3, 'min_data_in_leaf': 1300, 'max_bin': 216, 'lambda_l1': 100, 'lambda_l2': 5, 'min_gain_to_split': 12.173419915821096, 'bagging_fraction': 0.7, 'bagging_freq': 1, 'feature_fraction': 0.8}. Best is trial 67 with value: 27.960431140962235.\u001b[0m\n",
            "\u001b[32m[I 2021-11-02 19:14:29,964]\u001b[0m Trial 77 finished with value: 27.957504917293647 and parameters: {'n_estimators': 1540, 'learning_rate': 0.12451150300990464, 'num_leaves': 2180, 'max_depth': 4, 'min_data_in_leaf': 400, 'max_bin': 233, 'lambda_l1': 15, 'lambda_l2': 0, 'min_gain_to_split': 10.488481350873686, 'bagging_fraction': 0.8, 'bagging_freq': 1, 'feature_fraction': 0.9}. Best is trial 77 with value: 27.957504917293647.\u001b[0m\n",
            "\u001b[32m[I 2021-11-02 19:14:35,771]\u001b[0m Trial 78 finished with value: 28.00788260228677 and parameters: {'n_estimators': 1483, 'learning_rate': 0.12411068152536672, 'num_leaves': 1940, 'max_depth': 6, 'min_data_in_leaf': 1600, 'max_bin': 273, 'lambda_l1': 20, 'lambda_l2': 0, 'min_gain_to_split': 10.539932292114083, 'bagging_fraction': 0.6000000000000001, 'bagging_freq': 1, 'feature_fraction': 0.9}. Best is trial 77 with value: 27.957504917293647.\u001b[0m\n",
            "\u001b[32m[I 2021-11-02 19:14:40,503]\u001b[0m Trial 79 finished with value: 28.00259039873145 and parameters: {'n_estimators': 2131, 'learning_rate': 0.13580631433170992, 'num_leaves': 2180, 'max_depth': 5, 'min_data_in_leaf': 2100, 'max_bin': 211, 'lambda_l1': 5, 'lambda_l2': 20, 'min_gain_to_split': 13.308642604529343, 'bagging_fraction': 0.9, 'bagging_freq': 1, 'feature_fraction': 0.9}. Best is trial 77 with value: 27.957504917293647.\u001b[0m\n",
            "\u001b[32m[I 2021-11-02 19:14:44,367]\u001b[0m Trial 80 finished with value: 27.977745525768057 and parameters: {'n_estimators': 1572, 'learning_rate': 0.1725381056844059, 'num_leaves': 2080, 'max_depth': 4, 'min_data_in_leaf': 800, 'max_bin': 223, 'lambda_l1': 35, 'lambda_l2': 0, 'min_gain_to_split': 12.566183496394718, 'bagging_fraction': 0.9, 'bagging_freq': 1, 'feature_fraction': 0.9}. Best is trial 77 with value: 27.957504917293647.\u001b[0m\n",
            "\u001b[32m[I 2021-11-02 19:14:48,978]\u001b[0m Trial 81 finished with value: 27.97093698183333 and parameters: {'n_estimators': 1650, 'learning_rate': 0.11041685525933179, 'num_leaves': 1720, 'max_depth': 3, 'min_data_in_leaf': 400, 'max_bin': 243, 'lambda_l1': 15, 'lambda_l2': 5, 'min_gain_to_split': 11.497750802755474, 'bagging_fraction': 0.8, 'bagging_freq': 1, 'feature_fraction': 0.9}. Best is trial 77 with value: 27.957504917293647.\u001b[0m\n",
            "\u001b[32m[I 2021-11-02 19:14:53,903]\u001b[0m Trial 82 finished with value: 27.960442272043984 and parameters: {'n_estimators': 1201, 'learning_rate': 0.10348850969059413, 'num_leaves': 1500, 'max_depth': 3, 'min_data_in_leaf': 200, 'max_bin': 237, 'lambda_l1': 15, 'lambda_l2': 10, 'min_gain_to_split': 9.08571271081451, 'bagging_fraction': 0.8, 'bagging_freq': 1, 'feature_fraction': 0.8}. Best is trial 77 with value: 27.957504917293647.\u001b[0m\n",
            "\u001b[32m[I 2021-11-02 19:14:58,006]\u001b[0m Trial 83 finished with value: 27.962847188779033 and parameters: {'n_estimators': 1198, 'learning_rate': 0.12875781960451588, 'num_leaves': 1440, 'max_depth': 4, 'min_data_in_leaf': 200, 'max_bin': 232, 'lambda_l1': 10, 'lambda_l2': 10, 'min_gain_to_split': 10.777460134108132, 'bagging_fraction': 0.8, 'bagging_freq': 1, 'feature_fraction': 0.9}. Best is trial 77 with value: 27.957504917293647.\u001b[0m\n",
            "\u001b[32m[I 2021-11-02 19:15:01,988]\u001b[0m Trial 84 finished with value: 27.97292981209092 and parameters: {'n_estimators': 1255, 'learning_rate': 0.1483992589096823, 'num_leaves': 1500, 'max_depth': 4, 'min_data_in_leaf': 200, 'max_bin': 234, 'lambda_l1': 20, 'lambda_l2': 15, 'min_gain_to_split': 10.889559056547217, 'bagging_fraction': 0.7, 'bagging_freq': 1, 'feature_fraction': 0.9}. Best is trial 77 with value: 27.957504917293647.\u001b[0m\n",
            "\u001b[32m[I 2021-11-02 19:15:06,494]\u001b[0m Trial 85 finished with value: 27.990262737608283 and parameters: {'n_estimators': 1175, 'learning_rate': 0.12957488652570734, 'num_leaves': 1360, 'max_depth': 5, 'min_data_in_leaf': 900, 'max_bin': 228, 'lambda_l1': 15, 'lambda_l2': 10, 'min_gain_to_split': 10.2275607179023, 'bagging_fraction': 0.8, 'bagging_freq': 1, 'feature_fraction': 0.9}. Best is trial 77 with value: 27.957504917293647.\u001b[0m\n",
            "\u001b[32m[I 2021-11-02 19:15:10,787]\u001b[0m Trial 86 finished with value: 27.959581004645997 and parameters: {'n_estimators': 1207, 'learning_rate': 0.13864811893726164, 'num_leaves': 1540, 'max_depth': 4, 'min_data_in_leaf': 600, 'max_bin': 233, 'lambda_l1': 75, 'lambda_l2': 0, 'min_gain_to_split': 9.583758010602626, 'bagging_fraction': 0.7, 'bagging_freq': 1, 'feature_fraction': 0.9}. Best is trial 77 with value: 27.957504917293647.\u001b[0m\n",
            "\u001b[32m[I 2021-11-02 19:15:18,072]\u001b[0m Trial 87 finished with value: 28.149171540091963 and parameters: {'n_estimators': 1192, 'learning_rate': 0.09710117113431224, 'num_leaves': 1180, 'max_depth': 6, 'min_data_in_leaf': 7000, 'max_bin': 238, 'lambda_l1': 75, 'lambda_l2': 0, 'min_gain_to_split': 9.669030507564127, 'bagging_fraction': 0.6000000000000001, 'bagging_freq': 1, 'feature_fraction': 0.9}. Best is trial 77 with value: 27.957504917293647.\u001b[0m\n",
            "\u001b[32m[I 2021-11-02 19:15:22,295]\u001b[0m Trial 88 finished with value: 27.98971143041062 and parameters: {'n_estimators': 1524, 'learning_rate': 0.1664087774179881, 'num_leaves': 1560, 'max_depth': 4, 'min_data_in_leaf': 1100, 'max_bin': 232, 'lambda_l1': 55, 'lambda_l2': 10, 'min_gain_to_split': 11.315489033026338, 'bagging_fraction': 0.7, 'bagging_freq': 1, 'feature_fraction': 0.5}. Best is trial 77 with value: 27.957504917293647.\u001b[0m\n",
            "\u001b[32m[I 2021-11-02 19:15:26,093]\u001b[0m Trial 89 finished with value: 28.00387810942745 and parameters: {'n_estimators': 1137, 'learning_rate': 0.19039595685971716, 'num_leaves': 1060, 'max_depth': 5, 'min_data_in_leaf': 200, 'max_bin': 235, 'lambda_l1': 85, 'lambda_l2': 0, 'min_gain_to_split': 10.47072475030956, 'bagging_fraction': 0.8, 'bagging_freq': 1, 'feature_fraction': 0.9}. Best is trial 77 with value: 27.957504917293647.\u001b[0m\n",
            "\u001b[32m[I 2021-11-02 19:15:31,943]\u001b[0m Trial 90 finished with value: 28.050957571097673 and parameters: {'n_estimators': 1044, 'learning_rate': 0.11761836958926675, 'num_leaves': 1460, 'max_depth': 4, 'min_data_in_leaf': 4100, 'max_bin': 249, 'lambda_l1': 50, 'lambda_l2': 15, 'min_gain_to_split': 11.806629971250027, 'bagging_fraction': 0.7, 'bagging_freq': 1, 'feature_fraction': 0.9}. Best is trial 77 with value: 27.957504917293647.\u001b[0m\n",
            "\u001b[32m[I 2021-11-02 19:15:36,523]\u001b[0m Trial 91 finished with value: 27.97493188623619 and parameters: {'n_estimators': 1261, 'learning_rate': 0.14407854436151143, 'num_leaves': 1660, 'max_depth': 3, 'min_data_in_leaf': 600, 'max_bin': 231, 'lambda_l1': 10, 'lambda_l2': 5, 'min_gain_to_split': 8.987713428910583, 'bagging_fraction': 0.8, 'bagging_freq': 1, 'feature_fraction': 0.9}. Best is trial 77 with value: 27.957504917293647.\u001b[0m\n",
            "\u001b[32m[I 2021-11-02 19:15:40,715]\u001b[0m Trial 92 finished with value: 27.970609039866467 and parameters: {'n_estimators': 1402, 'learning_rate': 0.13718620319019592, 'num_leaves': 1360, 'max_depth': 4, 'min_data_in_leaf': 500, 'max_bin': 226, 'lambda_l1': 85, 'lambda_l2': 10, 'min_gain_to_split': 9.252471039237486, 'bagging_fraction': 0.8, 'bagging_freq': 1, 'feature_fraction': 0.9}. Best is trial 77 with value: 27.957504917293647.\u001b[0m\n",
            "\u001b[32m[I 2021-11-02 19:15:45,665]\u001b[0m Trial 93 finished with value: 28.008546375059314 and parameters: {'n_estimators': 1319, 'learning_rate': 0.15684553132734444, 'num_leaves': 1780, 'max_depth': 9, 'min_data_in_leaf': 700, 'max_bin': 223, 'lambda_l1': 65, 'lambda_l2': 5, 'min_gain_to_split': 9.929716030430846, 'bagging_fraction': 0.8, 'bagging_freq': 1, 'feature_fraction': 0.9}. Best is trial 77 with value: 27.957504917293647.\u001b[0m\n",
            "\u001b[32m[I 2021-11-02 19:15:49,806]\u001b[0m Trial 94 finished with value: 27.97047204845967 and parameters: {'n_estimators': 1213, 'learning_rate': 0.12086510407385517, 'num_leaves': 40, 'max_depth': 4, 'min_data_in_leaf': 400, 'max_bin': 256, 'lambda_l1': 10, 'lambda_l2': 0, 'min_gain_to_split': 7.58270458836053, 'bagging_fraction': 0.9, 'bagging_freq': 1, 'feature_fraction': 0.8}. Best is trial 77 with value: 27.957504917293647.\u001b[0m\n",
            "\u001b[32m[I 2021-11-02 19:15:54,160]\u001b[0m Trial 95 finished with value: 27.980000372616985 and parameters: {'n_estimators': 1129, 'learning_rate': 0.12864512870218942, 'num_leaves': 1560, 'max_depth': 3, 'min_data_in_leaf': 900, 'max_bin': 261, 'lambda_l1': 20, 'lambda_l2': 5, 'min_gain_to_split': 10.786804184840616, 'bagging_fraction': 0.8, 'bagging_freq': 1, 'feature_fraction': 0.9}. Best is trial 77 with value: 27.957504917293647.\u001b[0m\n",
            "\u001b[32m[I 2021-11-02 19:15:58,641]\u001b[0m Trial 96 finished with value: 27.96987412007069 and parameters: {'n_estimators': 1260, 'learning_rate': 0.17667765151850828, 'num_leaves': 1900, 'max_depth': 3, 'min_data_in_leaf': 400, 'max_bin': 209, 'lambda_l1': 25, 'lambda_l2': 10, 'min_gain_to_split': 7.823839547035818, 'bagging_fraction': 0.7, 'bagging_freq': 1, 'feature_fraction': 0.8}. Best is trial 77 with value: 27.957504917293647.\u001b[0m\n",
            "\u001b[32m[I 2021-11-02 19:16:02,783]\u001b[0m Trial 97 finished with value: 27.989469261453316 and parameters: {'n_estimators': 1045, 'learning_rate': 0.15978747212097816, 'num_leaves': 1280, 'max_depth': 4, 'min_data_in_leaf': 1300, 'max_bin': 228, 'lambda_l1': 5, 'lambda_l2': 0, 'min_gain_to_split': 9.438147983384992, 'bagging_fraction': 0.8, 'bagging_freq': 1, 'feature_fraction': 0.9}. Best is trial 77 with value: 27.957504917293647.\u001b[0m\n",
            "\u001b[32m[I 2021-11-02 19:16:07,046]\u001b[0m Trial 98 finished with value: 27.973816944151658 and parameters: {'n_estimators': 1372, 'learning_rate': 0.13960396962226013, 'num_leaves': 1620, 'max_depth': 3, 'min_data_in_leaf': 700, 'max_bin': 244, 'lambda_l1': 15, 'lambda_l2': 60, 'min_gain_to_split': 8.545914648137883, 'bagging_fraction': 0.9, 'bagging_freq': 1, 'feature_fraction': 0.9}. Best is trial 77 with value: 27.957504917293647.\u001b[0m\n",
            "\u001b[32m[I 2021-11-02 19:16:11,720]\u001b[0m Trial 99 finished with value: 27.96989975775068 and parameters: {'n_estimators': 1305, 'learning_rate': 0.11451355467975244, 'num_leaves': 1420, 'max_depth': 4, 'min_data_in_leaf': 200, 'max_bin': 235, 'lambda_l1': 10, 'lambda_l2': 20, 'min_gain_to_split': 7.197678194568602, 'bagging_fraction': 0.8, 'bagging_freq': 1, 'feature_fraction': 0.9}. Best is trial 77 with value: 27.957504917293647.\u001b[0m\n"
          ]
        },
        {
          "output_type": "stream",
          "name": "stdout",
          "text": [
            "Best trial:\n",
            " Value:  27.957504917293647\n",
            " Params: \n",
            "  n_estimators: 1540\n",
            "  learning_rate: 0.12451150300990464\n",
            "  num_leaves: 2180\n",
            "  max_depth: 4\n",
            "  min_data_in_leaf: 400\n",
            "  max_bin: 233\n",
            "  lambda_l1: 15\n",
            "  lambda_l2: 0\n",
            "  min_gain_to_split: 10.488481350873686\n",
            "  bagging_fraction: 0.8\n",
            "  bagging_freq: 1\n",
            "  feature_fraction: 0.9\n"
          ]
        }
      ]
    },
    {
      "cell_type": "code",
      "metadata": {
        "id": "CowzqwwG7Hjq"
      },
      "source": [
        ""
      ],
      "id": "CowzqwwG7Hjq",
      "execution_count": null,
      "outputs": []
    }
  ]
}