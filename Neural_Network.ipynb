{
  "nbformat": 4,
  "nbformat_minor": 5,
  "metadata": {
    "kernelspec": {
      "display_name": "Python 3 (ipykernel)",
      "language": "python",
      "name": "python3"
    },
    "language_info": {
      "codemirror_mode": {
        "name": "ipython",
        "version": 3
      },
      "file_extension": ".py",
      "mimetype": "text/x-python",
      "name": "python",
      "nbconvert_exporter": "python",
      "pygments_lexer": "ipython3",
      "version": "3.8.11"
    },
    "colab": {
      "name": "Train_models.ipynb",
      "provenance": []
    }
  },
  "cells": [
    {
      "cell_type": "code",
      "metadata": {
        "id": "f8pbWqXlDyMQ"
      },
      "source": [
        "pip install optuna"
      ],
      "id": "f8pbWqXlDyMQ",
      "execution_count": null,
      "outputs": []
    },
    {
      "cell_type": "code",
      "metadata": {
        "id": "6e511988"
      },
      "source": [
        "from sklearn.neural_network import MLPRegressor\n",
        "from sklearn.ensemble import RandomForestRegressor\n",
        "from sklearn.model_selection import train_test_split\n",
        "from sklearn.metrics import mean_absolute_error\n",
        "from sklearn.model_selection import GridSearchCV\n",
        "from sklearn.model_selection import KFold\n",
        "import pickle\n",
        "import optuna\n",
        "import numpy as np\n",
        "import pandas as pd"
      ],
      "id": "6e511988",
      "execution_count": null,
      "outputs": []
    },
    {
      "cell_type": "code",
      "metadata": {
        "id": "138fd278"
      },
      "source": [
        "df = pd.read_csv('train_data.csv', index_col=0)\n",
        "weight = []"
      ],
      "id": "138fd278",
      "execution_count": null,
      "outputs": []
    },
    {
      "cell_type": "code",
      "metadata": {
        "id": "0c03f0de"
      },
      "source": [
        "df=df[df[\"Weight\"]!='Not Available']"
      ],
      "id": "0c03f0de",
      "execution_count": null,
      "outputs": []
    },
    {
      "cell_type": "code",
      "metadata": {
        "id": "6bb23efa"
      },
      "source": [
        "for index,row in df.iterrows():\n",
        "    weight.append(row[\"Weight\"].split()[0])"
      ],
      "id": "6bb23efa",
      "execution_count": null,
      "outputs": []
    },
    {
      "cell_type": "code",
      "metadata": {
        "id": "2b1dde93"
      },
      "source": [
        "df[\"weight\"]=weight"
      ],
      "id": "2b1dde93",
      "execution_count": null,
      "outputs": []
    },
    {
      "cell_type": "code",
      "metadata": {
        "id": "17eadb87"
      },
      "source": [
        "df = df.astype({\"weight\": int})"
      ],
      "id": "17eadb87",
      "execution_count": null,
      "outputs": []
    },
    {
      "cell_type": "code",
      "metadata": {
        "id": "2fc7875b"
      },
      "source": [
        "X = df.drop([\"Weight\",\"weight\",\"ID\"],axis=1).to_numpy()"
      ],
      "id": "2fc7875b",
      "execution_count": null,
      "outputs": []
    },
    {
      "cell_type": "code",
      "metadata": {
        "id": "04255d27"
      },
      "source": [
        "y = df[\"weight\"].to_numpy()"
      ],
      "id": "04255d27",
      "execution_count": null,
      "outputs": []
    },
    {
      "cell_type": "code",
      "metadata": {
        "id": "bb620d0f"
      },
      "source": [
        "kf = KFold(n_splits=5)"
      ],
      "id": "bb620d0f",
      "execution_count": null,
      "outputs": []
    },
    {
      "cell_type": "code",
      "metadata": {
        "id": "4b5860b6"
      },
      "source": [
        "def define_model_layers(trial):\n",
        "    n_layers = 3\n",
        "    layers = []\n",
        "    \n",
        "    in_features = 9\n",
        "    for i in range(n_layers):\n",
        "        out_features = trial.suggest_int(\"n_units_l{}\".format(i),8,128)\n",
        "        layers.append(out_features)\n",
        "    \n",
        "    return layers"
      ],
      "id": "4b5860b6",
      "execution_count": null,
      "outputs": []
    },
    {
      "cell_type": "code",
      "metadata": {
        "id": "0b513245"
      },
      "source": [
        "def objective(trial):\n",
        "    layers = define_model_layers(trial)\n",
        "    \n",
        "    lr = trial.suggest_float(\"lr\",1e-5,1e-1,log=True)\n",
        "    \n",
        "    mae = []\n",
        "    \n",
        "    for train_index, test_index in kf.split(X):\n",
        "            \n",
        "            X_train, X_test, y_train, y_test = X[train_index],X[test_index],y[train_index],y[test_index]\n",
        "            regr = MLPRegressor(hidden_layer_sizes=layers,learning_rate_init=lr,random_state=1, max_iter=1500).fit(X_train, y_train)\n",
        "            y_pred = regr.predict(X_test)\n",
        "            mae.append(mean_absolute_error(y_test, y_pred))\n",
        "            \n",
        "    acc = sum(mae)/len(mae)\n",
        "    filename = \"\"\n",
        "    for i in layers:\n",
        "        filename = filename+str(i)+\"_\"\n",
        "    filename = filename + str(lr) +\".sav\"\n",
        "    \n",
        "    pickle.dump(regr, open(filename, 'wb'))\n",
        "    return acc\n",
        "            "
      ],
      "id": "0b513245",
      "execution_count": null,
      "outputs": []
    },
    {
      "cell_type": "code",
      "metadata": {
        "id": "ced54bec"
      },
      "source": [
        "study = optuna.create_study(direction=\"minimize\")\n",
        "study.optimize(objective,n_trials=100)\n",
        "\n",
        "print(\"Best trial:\")\n",
        "trial = study.best_trial\n",
        "\n",
        "print(\" Value: \",trial.value)\n",
        "\n",
        "print(\" Params: \")\n",
        "\n",
        "for key,value in trial.params.items():\n",
        "    print(\"  {}: {}\".format(key,value))"
      ],
      "id": "ced54bec",
      "execution_count": null,
      "outputs": []
    },
    {
      "cell_type": "code",
      "metadata": {
        "id": "80d02258"
      },
      "source": [
        "X_train, X_test, y_train, y_test = train_test_split(X, y,random_state=1)"
      ],
      "id": "80d02258",
      "execution_count": null,
      "outputs": []
    },
    {
      "cell_type": "code",
      "metadata": {
        "id": "cdcec2cb"
      },
      "source": [
        "regr = MLPRegressor(hidden_layer_sizes=layer,random_state=1, max_iter=1500).fit(X_train, y_train)"
      ],
      "id": "cdcec2cb",
      "execution_count": null,
      "outputs": []
    },
    {
      "cell_type": "code",
      "metadata": {
        "id": "c782e52d"
      },
      "source": [
        "y_pred = regr.predict(X_test)"
      ],
      "id": "c782e52d",
      "execution_count": null,
      "outputs": []
    },
    {
      "cell_type": "code",
      "metadata": {
        "id": "ff04d0d3"
      },
      "source": [
        "mean_absolute_error(y_test, y_pred)"
      ],
      "id": "ff04d0d3",
      "execution_count": null,
      "outputs": []
    },
    {
      "cell_type": "markdown",
      "metadata": {
        "id": "2b8e7d30"
      },
      "source": [
        "# Random Forest"
      ],
      "id": "2b8e7d30"
    }
  ]
}