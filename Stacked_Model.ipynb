{
  "nbformat": 4,
  "nbformat_minor": 5,
  "metadata": {
    "kernelspec": {
      "display_name": "Python 3 (ipykernel)",
      "language": "python",
      "name": "python3"
    },
    "language_info": {
      "codemirror_mode": {
        "name": "ipython",
        "version": 3
      },
      "file_extension": ".py",
      "mimetype": "text/x-python",
      "name": "python",
      "nbconvert_exporter": "python",
      "pygments_lexer": "ipython3",
      "version": "3.8.12"
    },
    "colab": {
      "name": "Stacked Model.ipynb",
      "provenance": [],
      "collapsed_sections": []
    }
  },
  "cells": [
    {
      "cell_type": "code",
      "metadata": {
        "id": "6e511988"
      },
      "source": [
        "from sklearn.neural_network import MLPRegressor\n",
        "from sklearn.model_selection import train_test_split\n",
        "from sklearn.metrics import mean_absolute_error\n",
        "from sklearn.model_selection import KFold\n",
        "from sklearn.svm import SVR\n",
        "from sklearn import linear_model\n",
        "import pickle\n",
        "import numpy as np\n",
        "import pandas as pd\n",
        "import xgboost as xg\n",
        "import lightgbm as lgb"
      ],
      "id": "6e511988",
      "execution_count": 1,
      "outputs": []
    },
    {
      "cell_type": "code",
      "metadata": {
        "id": "138fd278",
        "colab": {
          "base_uri": "https://localhost:8080/",
          "height": 391
        },
        "outputId": "cd252c4c-3f36-444d-a178-026c9df58e5d"
      },
      "source": [
        "df = pd.read_csv('train_data.csv', index_col=0)\n",
        "weight = []"
      ],
      "id": "138fd278",
      "execution_count": 2,
      "outputs": [
        {
          "output_type": "error",
          "ename": "FileNotFoundError",
          "evalue": "ignored",
          "traceback": [
            "\u001b[0;31m---------------------------------------------------------------------------\u001b[0m",
            "\u001b[0;31mFileNotFoundError\u001b[0m                         Traceback (most recent call last)",
            "\u001b[0;32m<ipython-input-2-c020003cfcfd>\u001b[0m in \u001b[0;36m<module>\u001b[0;34m()\u001b[0m\n\u001b[0;32m----> 1\u001b[0;31m \u001b[0mdf\u001b[0m \u001b[0;34m=\u001b[0m \u001b[0mpd\u001b[0m\u001b[0;34m.\u001b[0m\u001b[0mread_csv\u001b[0m\u001b[0;34m(\u001b[0m\u001b[0;34m'train_data.csv'\u001b[0m\u001b[0;34m,\u001b[0m \u001b[0mindex_col\u001b[0m\u001b[0;34m=\u001b[0m\u001b[0;36m0\u001b[0m\u001b[0;34m)\u001b[0m\u001b[0;34m\u001b[0m\u001b[0;34m\u001b[0m\u001b[0m\n\u001b[0m\u001b[1;32m      2\u001b[0m \u001b[0mweight\u001b[0m \u001b[0;34m=\u001b[0m \u001b[0;34m[\u001b[0m\u001b[0;34m]\u001b[0m\u001b[0;34m\u001b[0m\u001b[0;34m\u001b[0m\u001b[0m\n",
            "\u001b[0;32m/usr/local/lib/python3.7/dist-packages/pandas/io/parsers.py\u001b[0m in \u001b[0;36mread_csv\u001b[0;34m(filepath_or_buffer, sep, delimiter, header, names, index_col, usecols, squeeze, prefix, mangle_dupe_cols, dtype, engine, converters, true_values, false_values, skipinitialspace, skiprows, skipfooter, nrows, na_values, keep_default_na, na_filter, verbose, skip_blank_lines, parse_dates, infer_datetime_format, keep_date_col, date_parser, dayfirst, cache_dates, iterator, chunksize, compression, thousands, decimal, lineterminator, quotechar, quoting, doublequote, escapechar, comment, encoding, dialect, error_bad_lines, warn_bad_lines, delim_whitespace, low_memory, memory_map, float_precision)\u001b[0m\n\u001b[1;32m    686\u001b[0m     )\n\u001b[1;32m    687\u001b[0m \u001b[0;34m\u001b[0m\u001b[0m\n\u001b[0;32m--> 688\u001b[0;31m     \u001b[0;32mreturn\u001b[0m \u001b[0m_read\u001b[0m\u001b[0;34m(\u001b[0m\u001b[0mfilepath_or_buffer\u001b[0m\u001b[0;34m,\u001b[0m \u001b[0mkwds\u001b[0m\u001b[0;34m)\u001b[0m\u001b[0;34m\u001b[0m\u001b[0;34m\u001b[0m\u001b[0m\n\u001b[0m\u001b[1;32m    689\u001b[0m \u001b[0;34m\u001b[0m\u001b[0m\n\u001b[1;32m    690\u001b[0m \u001b[0;34m\u001b[0m\u001b[0m\n",
            "\u001b[0;32m/usr/local/lib/python3.7/dist-packages/pandas/io/parsers.py\u001b[0m in \u001b[0;36m_read\u001b[0;34m(filepath_or_buffer, kwds)\u001b[0m\n\u001b[1;32m    452\u001b[0m \u001b[0;34m\u001b[0m\u001b[0m\n\u001b[1;32m    453\u001b[0m     \u001b[0;31m# Create the parser.\u001b[0m\u001b[0;34m\u001b[0m\u001b[0;34m\u001b[0m\u001b[0;34m\u001b[0m\u001b[0m\n\u001b[0;32m--> 454\u001b[0;31m     \u001b[0mparser\u001b[0m \u001b[0;34m=\u001b[0m \u001b[0mTextFileReader\u001b[0m\u001b[0;34m(\u001b[0m\u001b[0mfp_or_buf\u001b[0m\u001b[0;34m,\u001b[0m \u001b[0;34m**\u001b[0m\u001b[0mkwds\u001b[0m\u001b[0;34m)\u001b[0m\u001b[0;34m\u001b[0m\u001b[0;34m\u001b[0m\u001b[0m\n\u001b[0m\u001b[1;32m    455\u001b[0m \u001b[0;34m\u001b[0m\u001b[0m\n\u001b[1;32m    456\u001b[0m     \u001b[0;32mif\u001b[0m \u001b[0mchunksize\u001b[0m \u001b[0;32mor\u001b[0m \u001b[0miterator\u001b[0m\u001b[0;34m:\u001b[0m\u001b[0;34m\u001b[0m\u001b[0;34m\u001b[0m\u001b[0m\n",
            "\u001b[0;32m/usr/local/lib/python3.7/dist-packages/pandas/io/parsers.py\u001b[0m in \u001b[0;36m__init__\u001b[0;34m(self, f, engine, **kwds)\u001b[0m\n\u001b[1;32m    946\u001b[0m             \u001b[0mself\u001b[0m\u001b[0;34m.\u001b[0m\u001b[0moptions\u001b[0m\u001b[0;34m[\u001b[0m\u001b[0;34m\"has_index_names\"\u001b[0m\u001b[0;34m]\u001b[0m \u001b[0;34m=\u001b[0m \u001b[0mkwds\u001b[0m\u001b[0;34m[\u001b[0m\u001b[0;34m\"has_index_names\"\u001b[0m\u001b[0;34m]\u001b[0m\u001b[0;34m\u001b[0m\u001b[0;34m\u001b[0m\u001b[0m\n\u001b[1;32m    947\u001b[0m \u001b[0;34m\u001b[0m\u001b[0m\n\u001b[0;32m--> 948\u001b[0;31m         \u001b[0mself\u001b[0m\u001b[0;34m.\u001b[0m\u001b[0m_make_engine\u001b[0m\u001b[0;34m(\u001b[0m\u001b[0mself\u001b[0m\u001b[0;34m.\u001b[0m\u001b[0mengine\u001b[0m\u001b[0;34m)\u001b[0m\u001b[0;34m\u001b[0m\u001b[0;34m\u001b[0m\u001b[0m\n\u001b[0m\u001b[1;32m    949\u001b[0m \u001b[0;34m\u001b[0m\u001b[0m\n\u001b[1;32m    950\u001b[0m     \u001b[0;32mdef\u001b[0m \u001b[0mclose\u001b[0m\u001b[0;34m(\u001b[0m\u001b[0mself\u001b[0m\u001b[0;34m)\u001b[0m\u001b[0;34m:\u001b[0m\u001b[0;34m\u001b[0m\u001b[0;34m\u001b[0m\u001b[0m\n",
            "\u001b[0;32m/usr/local/lib/python3.7/dist-packages/pandas/io/parsers.py\u001b[0m in \u001b[0;36m_make_engine\u001b[0;34m(self, engine)\u001b[0m\n\u001b[1;32m   1178\u001b[0m     \u001b[0;32mdef\u001b[0m \u001b[0m_make_engine\u001b[0m\u001b[0;34m(\u001b[0m\u001b[0mself\u001b[0m\u001b[0;34m,\u001b[0m \u001b[0mengine\u001b[0m\u001b[0;34m=\u001b[0m\u001b[0;34m\"c\"\u001b[0m\u001b[0;34m)\u001b[0m\u001b[0;34m:\u001b[0m\u001b[0;34m\u001b[0m\u001b[0;34m\u001b[0m\u001b[0m\n\u001b[1;32m   1179\u001b[0m         \u001b[0;32mif\u001b[0m \u001b[0mengine\u001b[0m \u001b[0;34m==\u001b[0m \u001b[0;34m\"c\"\u001b[0m\u001b[0;34m:\u001b[0m\u001b[0;34m\u001b[0m\u001b[0;34m\u001b[0m\u001b[0m\n\u001b[0;32m-> 1180\u001b[0;31m             \u001b[0mself\u001b[0m\u001b[0;34m.\u001b[0m\u001b[0m_engine\u001b[0m \u001b[0;34m=\u001b[0m \u001b[0mCParserWrapper\u001b[0m\u001b[0;34m(\u001b[0m\u001b[0mself\u001b[0m\u001b[0;34m.\u001b[0m\u001b[0mf\u001b[0m\u001b[0;34m,\u001b[0m \u001b[0;34m**\u001b[0m\u001b[0mself\u001b[0m\u001b[0;34m.\u001b[0m\u001b[0moptions\u001b[0m\u001b[0;34m)\u001b[0m\u001b[0;34m\u001b[0m\u001b[0;34m\u001b[0m\u001b[0m\n\u001b[0m\u001b[1;32m   1181\u001b[0m         \u001b[0;32melse\u001b[0m\u001b[0;34m:\u001b[0m\u001b[0;34m\u001b[0m\u001b[0;34m\u001b[0m\u001b[0m\n\u001b[1;32m   1182\u001b[0m             \u001b[0;32mif\u001b[0m \u001b[0mengine\u001b[0m \u001b[0;34m==\u001b[0m \u001b[0;34m\"python\"\u001b[0m\u001b[0;34m:\u001b[0m\u001b[0;34m\u001b[0m\u001b[0;34m\u001b[0m\u001b[0m\n",
            "\u001b[0;32m/usr/local/lib/python3.7/dist-packages/pandas/io/parsers.py\u001b[0m in \u001b[0;36m__init__\u001b[0;34m(self, src, **kwds)\u001b[0m\n\u001b[1;32m   2008\u001b[0m         \u001b[0mkwds\u001b[0m\u001b[0;34m[\u001b[0m\u001b[0;34m\"usecols\"\u001b[0m\u001b[0;34m]\u001b[0m \u001b[0;34m=\u001b[0m \u001b[0mself\u001b[0m\u001b[0;34m.\u001b[0m\u001b[0musecols\u001b[0m\u001b[0;34m\u001b[0m\u001b[0;34m\u001b[0m\u001b[0m\n\u001b[1;32m   2009\u001b[0m \u001b[0;34m\u001b[0m\u001b[0m\n\u001b[0;32m-> 2010\u001b[0;31m         \u001b[0mself\u001b[0m\u001b[0;34m.\u001b[0m\u001b[0m_reader\u001b[0m \u001b[0;34m=\u001b[0m \u001b[0mparsers\u001b[0m\u001b[0;34m.\u001b[0m\u001b[0mTextReader\u001b[0m\u001b[0;34m(\u001b[0m\u001b[0msrc\u001b[0m\u001b[0;34m,\u001b[0m \u001b[0;34m**\u001b[0m\u001b[0mkwds\u001b[0m\u001b[0;34m)\u001b[0m\u001b[0;34m\u001b[0m\u001b[0;34m\u001b[0m\u001b[0m\n\u001b[0m\u001b[1;32m   2011\u001b[0m         \u001b[0mself\u001b[0m\u001b[0;34m.\u001b[0m\u001b[0munnamed_cols\u001b[0m \u001b[0;34m=\u001b[0m \u001b[0mself\u001b[0m\u001b[0;34m.\u001b[0m\u001b[0m_reader\u001b[0m\u001b[0;34m.\u001b[0m\u001b[0munnamed_cols\u001b[0m\u001b[0;34m\u001b[0m\u001b[0;34m\u001b[0m\u001b[0m\n\u001b[1;32m   2012\u001b[0m \u001b[0;34m\u001b[0m\u001b[0m\n",
            "\u001b[0;32mpandas/_libs/parsers.pyx\u001b[0m in \u001b[0;36mpandas._libs.parsers.TextReader.__cinit__\u001b[0;34m()\u001b[0m\n",
            "\u001b[0;32mpandas/_libs/parsers.pyx\u001b[0m in \u001b[0;36mpandas._libs.parsers.TextReader._setup_parser_source\u001b[0;34m()\u001b[0m\n",
            "\u001b[0;31mFileNotFoundError\u001b[0m: [Errno 2] No such file or directory: 'train_data.csv'"
          ]
        }
      ]
    },
    {
      "cell_type": "code",
      "metadata": {
        "id": "0c03f0de"
      },
      "source": [
        "df=df[df[\"Weight\"]!='Not Available']"
      ],
      "id": "0c03f0de",
      "execution_count": null,
      "outputs": []
    },
    {
      "cell_type": "code",
      "metadata": {
        "id": "6bb23efa"
      },
      "source": [
        "for index,row in df.iterrows():\n",
        "    weight.append(row[\"Weight\"].split()[0])"
      ],
      "id": "6bb23efa",
      "execution_count": null,
      "outputs": []
    },
    {
      "cell_type": "code",
      "metadata": {
        "id": "2b1dde93"
      },
      "source": [
        "df[\"weight\"]=weight"
      ],
      "id": "2b1dde93",
      "execution_count": null,
      "outputs": []
    },
    {
      "cell_type": "code",
      "metadata": {
        "id": "17eadb87"
      },
      "source": [
        "df = df.astype({\"weight\": int})"
      ],
      "id": "17eadb87",
      "execution_count": null,
      "outputs": []
    },
    {
      "cell_type": "code",
      "metadata": {
        "id": "2fc7875b"
      },
      "source": [
        "X = df.drop([\"Weight\",\"weight\",\"ID\"],axis=1).to_numpy()"
      ],
      "id": "2fc7875b",
      "execution_count": null,
      "outputs": []
    },
    {
      "cell_type": "code",
      "metadata": {
        "id": "04255d27"
      },
      "source": [
        "y = df[\"weight\"].to_numpy()"
      ],
      "id": "04255d27",
      "execution_count": null,
      "outputs": []
    },
    {
      "cell_type": "code",
      "metadata": {
        "id": "8222fdd8"
      },
      "source": [
        "kf = KFold(n_splits=5)"
      ],
      "id": "8222fdd8",
      "execution_count": null,
      "outputs": []
    },
    {
      "cell_type": "code",
      "metadata": {
        "id": "af553115"
      },
      "source": [
        "X_train, X_test, y_train, y_test = train_test_split(X, y, test_size=0.1, random_state=42)"
      ],
      "id": "af553115",
      "execution_count": null,
      "outputs": []
    },
    {
      "cell_type": "code",
      "metadata": {
        "id": "003eb97a"
      },
      "source": [
        "param_grid_lgb = {\n",
        "\"n_estimators\": 1540,\n",
        "\"learning_rate\": 0.12451150300990464,\n",
        "\"num_leaves\": 2180,\n",
        "\"max_depth\": 4,\n",
        "\"min_data_in_leaf\": 400,\n",
        "\"max_bin\": 233,\n",
        "\"lambda_l1\": 15,\n",
        "\"lambda_l2\": 0,\n",
        "\"min_gain_to_split\": 10.488481350873686,\n",
        "\"bagging_fraction\": 0.8,\n",
        "\"bagging_freq\": 1,\n",
        "\"feature_fraction\": 0.9,\n",
        "}\n",
        "\n",
        "param_grid_xg = {\n",
        "\"lr\": 0.011334813373338989,\n",
        "\"n_estimators\": 2333,\n",
        "\"max_depth\": 5,\n",
        "\"subsample\": 0.8486443999034436,\n",
        "\"colsample_bytree\": 0.767195468916397,\n",
        "\"gamma\": 2,\n",
        "\"early_stopping_rounds\": 55\n",
        "}\n",
        "\n",
        "param_grid_nn = {\n",
        "    \"layers\" : [64,117,97],\n",
        "    \"lr\" : 0.004658308827365093\n",
        "}\n"
      ],
      "id": "003eb97a",
      "execution_count": null,
      "outputs": []
    },
    {
      "cell_type": "code",
      "metadata": {
        "id": "6443f622"
      },
      "source": [
        "def eval_metric(y_true,y_pred):\n",
        "    return \"mae\",mean_absolute_error(y_true, y_pred),False"
      ],
      "id": "6443f622",
      "execution_count": null,
      "outputs": []
    },
    {
      "cell_type": "code",
      "metadata": {
        "scrolled": true,
        "id": "cba47b96"
      },
      "source": [
        "score = -999999999999999\n",
        "for train_index, test_index in kf.split(X_train):\n",
        "    \n",
        "    X_train_k_fold, X_test_k_fold, y_train_k_fold, y_test_k_fold = X_train[train_index],X_train[test_index],y_train[train_index],y_train[test_index]\n",
        "    \n",
        "    model1 = lgb.LGBMRegressor(objective=\"regression\", **param_grid_lgb)\n",
        "    model2 = xg.XGBRegressor(objective ='reg:squarederror',\n",
        "                  n_estimators = param_grid_xg[\"n_estimators\"],learning_rate = param_grid_xg[\"lr\"],max_depth = param_grid_xg[\"max_depth\"],subsample = param_grid_xg[\"subsample\"],colsample_bytree = param_grid_xg[\"colsample_bytree\"],gamma = param_grid_xg[\"gamma\"], seed = 0)\n",
        "\n",
        "    model3 = MLPRegressor(hidden_layer_sizes=param_grid_nn[\"layers\"] , learning_rate_init=param_grid_nn[\"lr\"],random_state=0, max_iter=1500)\n",
        "    \n",
        "    model1.fit(\n",
        "    X_train_k_fold,\n",
        "    y_train_k_fold,\n",
        "    eval_set=[(X_test_k_fold, y_test_k_fold)],\n",
        "    eval_metric=eval_metric,\n",
        "    early_stopping_rounds=100,\n",
        "    verbose = False,\n",
        "    )\n",
        "    \n",
        "    model2.fit(X_train_k_fold,y_train_k_fold,early_stopping_rounds = param_grid_xg[\"early_stopping_rounds\"],eval_set = [(X_test_k_fold, y_test_k_fold)],verbose = False,eval_metric = \"mae\")\n",
        "    \n",
        "    model3.fit(X_train_k_fold,y_train_k_fold)\n",
        "    \n",
        "    y_pred_model1 = model1.predict(X_test_k_fold)\n",
        "    y_pred_model2 = model2.predict(X_test_k_fold)\n",
        "    y_pred_model3 = model3.predict(X_test_k_fold)\n",
        "        \n",
        "    features = np.vstack((y_pred_model1,y_pred_model2,y_pred_model3))\n",
        "    features = features.transpose()\n",
        "    \n",
        "    regr = MLPRegressor(random_state=1, max_iter=500).fit(features, y_test_k_fold)\n",
        "\n",
        "    # regr = make_pipeline(StandardScaler(), linear_model.LassoLars(alpha=.1, normalize=False))\n",
        "    # regr.fit(features,y_test_k_fold)\n",
        "    # reg = LinearRegression().fit(features,y_test_k_fold)\n",
        "    curr_score = reg.score(features,y_test_k_fold)\n",
        "\n",
        "    if curr_score > score:\n",
        "      score = curr_score\n",
        "      filename = 'best_model_MLP.sav'\n",
        "      pickle.dump(reg, open(filename, 'wb'))\n",
        "      pickle.dump(model3, open(\"best_nn.sav\", 'wb'))\n",
        "      # model2.save_model(\"best_xgboost.json\")\n",
        "      model2.save_model(\"best_xgboost.txt\")\n",
        "      model1.booster_.save_model('best_lgbm.txt')\n",
        "\n",
        "\n",
        "#     y_pred_model1_list.append(y_pred_model1)\n",
        "#     y_pred_model2_list.append(y_pred_model2)\n",
        "#     y_pred_model3_list.append(y_pred_model3)\n",
        "    "
      ],
      "id": "cba47b96",
      "execution_count": null,
      "outputs": []
    },
    {
      "cell_type": "code",
      "metadata": {
        "id": "2510e6ce"
      },
      "source": [
        "model1 = lgb.Booster(model_file='best_lgbm.txt')\n",
        "model2 = xg.XGBRegressor()\n",
        "model2.load_model(\"best_xgboost.txt\")\n",
        "model3 = pickle.load(open(\"best_nn.sav\", 'rb'))\n",
        "\n",
        "meta_model = pickle.load(open(\"best_model_SVM.sav\", 'rb'))"
      ],
      "id": "2510e6ce",
      "execution_count": null,
      "outputs": []
    },
    {
      "cell_type": "code",
      "metadata": {
        "colab": {
          "base_uri": "https://localhost:8080/"
        },
        "id": "gVd4WsrTnX_7",
        "outputId": "2c9d8b19-daea-47fe-84f1-063a30bf81c4"
      },
      "source": [
        "y_pred_model1 = model1.predict(X_test)\n",
        "y_pred_model2 = model2.predict(X_test)\n",
        "y_pred_model3 = model3.predict(X_test)\n",
        "\n",
        "model1_stat = [0] * 12\n",
        "model2_stat = [0] * 12\n",
        "model3_stat = [0] * 12\n",
        "\n",
        "meta_model_stat = [0] * 12\n",
        "\n",
        "for x, (i, j) in enumerate(zip(y_pred_model1, y_test)):\n",
        "    \n",
        "    if round(abs(i-j),0)<=5 and round(abs(i-j),0)>=0:\n",
        "          model1_stat[0]=model1_stat[0]+1\n",
        "       \n",
        "    if round(abs(i-j),0)<=10 and round(abs(i-j),0)>=6:\n",
        "          model1_stat[1]=model1_stat[1]+1\n",
        "          \n",
        "    if round(abs(i-j),0)<=20 and round(abs(i-j),0)>=11:\n",
        "          model1_stat[2]=model1_stat[2]+1\n",
        "       \n",
        "    if round(abs(i-j),0)<=30 and round(abs(i-j),0)>=21:\n",
        "          model1_stat[3]=model1_stat[3]+1\n",
        "         \n",
        "    if round(abs(i-j),0)<=40 and round(abs(i-j),0)>=31:\n",
        "          model1_stat[4]=model1_stat[4]+1\n",
        "          \n",
        "    if round(abs(i-j),0)<=50 and round(abs(i-j),0)>=41:\n",
        "          model1_stat[5]=model1_stat[5]+1\n",
        "        \n",
        "    if round(abs(i-j),0)<=60 and round(abs(i-j),0)>=51:\n",
        "          model1_stat[6]=model1_stat[6]+1\n",
        "      \n",
        "    if round(abs(i-j),0)<=70 and round(abs(i-j),0)>=61:\n",
        "          model1_stat[7]=model1_stat[7]+1\n",
        "        \n",
        "    if round(abs(i-j),0)<=80 and round(abs(i-j),0)>=71:\n",
        "          model1_stat[8]=model1_stat[8]+1\n",
        "          \n",
        "    if round(abs(i-j),0)<=90 and round(abs(i-j),0)>=81:\n",
        "          model1_stat[9]=model1_stat[9]+1\n",
        "         \n",
        "    if round(abs(i-j),0)<=100 and round(abs(i-j),0)>=91:\n",
        "          model1_stat[10]=model1_stat[10]+1\n",
        "         \n",
        "\n",
        "    if round(abs(i-j),0)>100:\n",
        "          model1_stat[11]=model1_stat[11]+1\n",
        "          \n",
        " \n",
        "\n",
        "\n",
        "for x, (i, j) in enumerate(zip(y_pred_model2, y_test)):\n",
        "    if round(abs(i-j),0)<=5 and round(abs(i-j),0)>=0:\n",
        "          model2_stat[0]=model2_stat[0]+1\n",
        "    if round(abs(i-j),0)<=10 and round(abs(i-j),0)>=6:\n",
        "          model2_stat[1]=model2_stat[1]+1\n",
        "    if round(abs(i-j),0)<=20 and round(abs(i-j),0)>=11:\n",
        "          model2_stat[2]=model2_stat[2]+1\n",
        "    if round(abs(i-j),0)<=30 and round(abs(i-j),0)>=21:\n",
        "          model2_stat[3]=model2_stat[3]+1\n",
        "    if round(abs(i-j),0)<=40 and round(abs(i-j),0)>=31:\n",
        "          model2_stat[4]=model2_stat[4]+1\n",
        "    if round(abs(i-j),0)<=50 and round(abs(i-j),0)>=41:\n",
        "          model2_stat[5]=model2_stat[5]+1\n",
        "    if round(abs(i-j),0)<=60 and round(abs(i-j),0)>=51:\n",
        "          model2_stat[6]=model2_stat[6]+1\n",
        "    if round(abs(i-j),0)<=70 and round(abs(i-j),0)>=61:\n",
        "          model2_stat[7]=model2_stat[7]+1\n",
        "    if round(abs(i-j),0)<=80 and round(abs(i-j),0)>=71:\n",
        "          model2_stat[8]=model2_stat[8]+1\n",
        "    if round(abs(i-j),0)<=90 and round(abs(i-j),0)>=81:\n",
        "          model2_stat[9]=model2_stat[9]+1\n",
        "    if round(abs(i-j),0)<=100 and round(abs(i-j),0)>=91:\n",
        "          model2_stat[10]=model2_stat[10]+1\n",
        "    if round(abs(i-j),0)>100:\n",
        "          model2_stat[11]=model2_stat[11]+1\n",
        "\n",
        "for x, (i, j) in enumerate(zip(y_pred_model3, y_test)):\n",
        "    if round(abs(i-j),0)<=5 and round(abs(i-j),0)>=0:\n",
        "          model3_stat[0]=model3_stat[0]+1\n",
        "    if round(abs(i-j),0)<=10 and round(abs(i-j),0)>=6:\n",
        "          model3_stat[1]=model3_stat[1]+1\n",
        "    if round(abs(i-j),0)<=20 and round(abs(i-j),0)>=11:\n",
        "          model3_stat[2]=model3_stat[2]+1\n",
        "    if round(abs(i-j),0)<=30 and round(abs(i-j),0)>=21:\n",
        "          model3_stat[3]=model3_stat[3]+1\n",
        "    if round(abs(i-j),0)<=40 and round(abs(i-j),0)>=31:\n",
        "          model3_stat[4]=model3_stat[4]+1\n",
        "    if round(abs(i-j),0)<=50 and round(abs(i-j),0)>=41:\n",
        "          model3_stat[5]=model3_stat[5]+1\n",
        "    if round(abs(i-j),0)<=60 and round(abs(i-j),0)>=51:\n",
        "          model3_stat[6]=model3_stat[6]+1\n",
        "    if round(abs(i-j),0)<=70 and round(abs(i-j),0)>=61:\n",
        "          model3_stat[7]=model3_stat[7]+1\n",
        "    if round(abs(i-j),0)<=80 and round(abs(i-j),0)>=71:\n",
        "          model3_stat[8]=model3_stat[8]+1\n",
        "    if round(abs(i-j),0)<=90 and round(abs(i-j),0)>=81:\n",
        "          model3_stat[9]=model3_stat[9]+1\n",
        "    if round(abs(i-j),0)<=100 and round(abs(i-j),0)>=91:\n",
        "          model3_stat[10]=model3_stat[10]+1\n",
        "    if round(abs(i-j),0)>100:\n",
        "          model3_stat[11]=model3_stat[11]+1\n",
        "\n",
        "features = np.vstack((y_pred_model1,y_pred_model2,y_pred_model3))\n",
        "features = features.transpose()\n",
        "y_pred = meta_model.predict(features)\n",
        "\n",
        "\n",
        "for x, (i, j) in enumerate(zip(y_pred, y_test)):\n",
        "    if round(abs(i-j),0)<=5 and round(abs(i-j),0)>=0:\n",
        "          meta_model_stat[0]=meta_model_stat[0]+1\n",
        "    if round(abs(i-j),0)<=10 and round(abs(i-j),0)>=6:\n",
        "          meta_model_stat[1]=meta_model_stat[1]+1\n",
        "    if round(abs(i-j),0)<=20 and round(abs(i-j),0)>=11:\n",
        "          meta_model_stat[2]=meta_model_stat[2]+1\n",
        "    if round(abs(i-j),0)<=30 and round(abs(i-j),0)>=21:\n",
        "          meta_model_stat[3]=meta_model_stat[3]+1\n",
        "    if round(abs(i-j),0)<=40 and round(abs(i-j),0)>=31:\n",
        "          meta_model_stat[4]=meta_model_stat[4]+1\n",
        "    if round(abs(i-j),0)<=50 and round(abs(i-j),0)>=41:\n",
        "          meta_model_stat[5]=meta_model_stat[5]+1\n",
        "    if round(abs(i-j),0)<=60 and round(abs(i-j),0)>=51:\n",
        "          meta_model_stat[6]=meta_model_stat[6]+1\n",
        "    if round(abs(i-j),0)<=70 and round(abs(i-j),0)>=61:\n",
        "          meta_model_stat[7]=meta_model_stat[7]+1\n",
        "    if round(abs(i-j),0)<=80 and round(abs(i-j),0)>=71:\n",
        "          meta_model_stat[8]=meta_model_stat[8]+1\n",
        "    if round(abs(i-j),0)<=90 and round(abs(i-j),0)>=81:\n",
        "          meta_model_stat[9]=meta_model_stat[9]+1\n",
        "    if round(abs(i-j),0)<=100 and round(abs(i-j),0)>=91:\n",
        "          meta_model_stat[10]=meta_model_stat[10]+1\n",
        "    if round(abs(i-j),0)>100:\n",
        "          meta_model_stat[11]=meta_model_stat[11]+1\n",
        "print(\"meta_model\",mean_absolute_error(y_test, y_pred))\n",
        "print(\"lightgbm:\",mean_absolute_error(y_test, y_pred_model1))\n",
        "print(\"xgboost:\",mean_absolute_error(y_test, y_pred_model2))\n",
        "print(\"NN:\",mean_absolute_error(y_test, y_pred_model3))"
      ],
      "id": "gVd4WsrTnX_7",
      "execution_count": null,
      "outputs": [
        {
          "output_type": "stream",
          "name": "stdout",
          "text": [
            "meta_model 27.266674506500536\n",
            "lightgbm: 27.560741982987636\n",
            "xgboost: 27.306519930840913\n",
            "NN: 27.52609709233549\n"
          ]
        }
      ]
    },
    {
      "cell_type": "code",
      "metadata": {
        "id": "PfmGU46roSZD",
        "colab": {
          "base_uri": "https://localhost:8080/"
        },
        "outputId": "31ca7497-1492-4d1d-a8ab-e9e46bc9ea6e"
      },
      "source": [
        "sum(model1_stat)"
      ],
      "id": "PfmGU46roSZD",
      "execution_count": null,
      "outputs": [
        {
          "output_type": "execute_result",
          "data": {
            "text/plain": [
              "6930"
            ]
          },
          "metadata": {},
          "execution_count": 54
        }
      ]
    },
    {
      "cell_type": "code",
      "metadata": {
        "colab": {
          "base_uri": "https://localhost:8080/"
        },
        "id": "lyONors-FaAI",
        "outputId": "c8712fb5-c176-4105-db38-5b8875560d72"
      },
      "source": [
        "sum(model2_stat)"
      ],
      "id": "lyONors-FaAI",
      "execution_count": null,
      "outputs": [
        {
          "output_type": "execute_result",
          "data": {
            "text/plain": [
              "6930"
            ]
          },
          "metadata": {},
          "execution_count": 55
        }
      ]
    },
    {
      "cell_type": "code",
      "metadata": {
        "colab": {
          "base_uri": "https://localhost:8080/"
        },
        "id": "Jt8BgvQzFcqv",
        "outputId": "a045c1a4-338f-4e0a-ab98-7485464b30cd"
      },
      "source": [
        "sum(model3_stat)"
      ],
      "id": "Jt8BgvQzFcqv",
      "execution_count": null,
      "outputs": [
        {
          "output_type": "execute_result",
          "data": {
            "text/plain": [
              "6930"
            ]
          },
          "metadata": {},
          "execution_count": 56
        }
      ]
    },
    {
      "cell_type": "code",
      "metadata": {
        "colab": {
          "base_uri": "https://localhost:8080/"
        },
        "id": "nSj-m9aEFefT",
        "outputId": "0cbbc318-eac1-4d63-e56c-8ff787c8197d"
      },
      "source": [
        "sum(meta_model_stat)"
      ],
      "id": "nSj-m9aEFefT",
      "execution_count": null,
      "outputs": [
        {
          "output_type": "execute_result",
          "data": {
            "text/plain": [
              "6930"
            ]
          },
          "metadata": {},
          "execution_count": 57
        }
      ]
    },
    {
      "cell_type": "code",
      "metadata": {
        "colab": {
          "base_uri": "https://localhost:8080/"
        },
        "id": "jE9q7NPTFgdg",
        "outputId": "c4212e48-a11e-4b06-8e99-29619e2117ff"
      },
      "source": [
        "len(X_test)"
      ],
      "id": "jE9q7NPTFgdg",
      "execution_count": null,
      "outputs": [
        {
          "output_type": "execute_result",
          "data": {
            "text/plain": [
              "6930"
            ]
          },
          "metadata": {},
          "execution_count": 58
        }
      ]
    },
    {
      "cell_type": "code",
      "metadata": {
        "id": "qjOfXCYaFp90"
      },
      "source": [
        "for x,i in enumerate(model1_stat):\n",
        "  model1_stat[x] = i * (100/6930)"
      ],
      "id": "qjOfXCYaFp90",
      "execution_count": null,
      "outputs": []
    },
    {
      "cell_type": "code",
      "metadata": {
        "id": "5uc7twLxF72g"
      },
      "source": [
        "for x,i in enumerate(model2_stat):\n",
        "  model2_stat[x] = i * (100/6930)"
      ],
      "id": "5uc7twLxF72g",
      "execution_count": null,
      "outputs": []
    },
    {
      "cell_type": "code",
      "metadata": {
        "id": "RrqL3pa2F-q7"
      },
      "source": [
        "for x,i in enumerate(model3_stat):\n",
        "  model3_stat[x] = i * (100/6930)"
      ],
      "id": "RrqL3pa2F-q7",
      "execution_count": null,
      "outputs": []
    },
    {
      "cell_type": "code",
      "metadata": {
        "id": "PRXuZ_r3GAkY"
      },
      "source": [
        "for x,i in enumerate(meta_model_stat):\n",
        "  meta_model_stat[x] = i * (100/6930)"
      ],
      "id": "PRXuZ_r3GAkY",
      "execution_count": null,
      "outputs": []
    },
    {
      "cell_type": "code",
      "metadata": {
        "colab": {
          "base_uri": "https://localhost:8080/"
        },
        "id": "mCVq7BocGD-i",
        "outputId": "2f133acc-646f-4c80-ff54-36185b669310"
      },
      "source": [
        "len(model1_stat)"
      ],
      "id": "mCVq7BocGD-i",
      "execution_count": null,
      "outputs": [
        {
          "output_type": "execute_result",
          "data": {
            "text/plain": [
              "12"
            ]
          },
          "metadata": {},
          "execution_count": 67
        }
      ]
    },
    {
      "cell_type": "code",
      "metadata": {
        "id": "GT-CfZUUGFxK"
      },
      "source": [
        "import matplotlib.pyplot as plt"
      ],
      "id": "GT-CfZUUGFxK",
      "execution_count": null,
      "outputs": []
    },
    {
      "cell_type": "code",
      "metadata": {
        "colab": {
          "base_uri": "https://localhost:8080/",
          "height": 336
        },
        "id": "slpX6qo8GY8C",
        "outputId": "4593fa8d-97a8-4847-ca9a-1c991fa30a93"
      },
      "source": [
        "fig = plt.figure()\n",
        "ax = fig.add_axes([0,0,1,1])\n",
        "Range = ['0-5', '6-10', '11-20', '21-30', '31-40', '41-50' ,'51-60','61-70','71-80','81-90','91-100','>100']\n",
        "ax.bar(Range,model1_stat)\n",
        "plt.show()"
      ],
      "id": "slpX6qo8GY8C",
      "execution_count": null,
      "outputs": [
        {
          "output_type": "display_data",
          "data": {
            "image/png": "[encoded data removed]",
            "text/plain": [
              "<Figure size 432x288 with 1 Axes>"
            ]
          },
          "metadata": {
            "needs_background": "light"
          }
        }
      ]
    },
    {
      "cell_type": "code",
      "metadata": {
        "colab": {
          "base_uri": "https://localhost:8080/",
          "height": 336
        },
        "id": "v7h_B7NJSGqx",
        "outputId": "27db23c4-6d0a-47c8-b7b5-af3455b1df10"
      },
      "source": [
        "fig = plt.figure()\n",
        "ax = fig.add_axes([0,0,1,1])\n",
        "Range = ['0-5', '6-10', '11-20', '21-30', '31-40', '41-50' ,'51-60','61-70','71-80','81-90','91-100','>100']\n",
        "ax.bar(Range,model2_stat)\n",
        "plt.show()"
      ],
      "id": "v7h_B7NJSGqx",
      "execution_count": null,
      "outputs": [
        {
          "output_type": "display_data",
          "data": {
            "image/png": "[encoded data removed]",
            "text/plain": [
              "<Figure size 432x288 with 1 Axes>"
            ]
          },
          "metadata": {
            "needs_background": "light"
          }
        }
      ]
    },
    {
      "cell_type": "code",
      "metadata": {
        "colab": {
          "base_uri": "https://localhost:8080/",
          "height": 336
        },
        "id": "_QzxGZt9SZKa",
        "outputId": "70cb3ed0-0084-4a68-daa0-353a69b3b546"
      },
      "source": [
        "fig = plt.figure()\n",
        "ax = fig.add_axes([0,0,1,1])\n",
        "Range = ['0-5', '6-10', '11-20', '21-30', '31-40', '41-50' ,'51-60','61-70','71-80','81-90','91-100','>100']\n",
        "ax.bar(Range,model3_stat)\n",
        "plt.show()"
      ],
      "id": "_QzxGZt9SZKa",
      "execution_count": null,
      "outputs": [
        {
          "output_type": "display_data",
          "data": {
            "image/png": "[encoded data removed]",
            "text/plain": [
              "<Figure size 432x288 with 1 Axes>"
            ]
          },
          "metadata": {
            "needs_background": "light"
          }
        }
      ]
    },
    {
      "cell_type": "code",
      "metadata": {
        "colab": {
          "base_uri": "https://localhost:8080/",
          "height": 336
        },
        "id": "jdxDNspdSbZE",
        "outputId": "58b3fa83-cdce-43a1-9239-7f23f58b97e6"
      },
      "source": [
        "fig = plt.figure()\n",
        "ax = fig.add_axes([0,0,1,1])\n",
        "Range = ['0-5', '6-10', '11-20', '21-30', '31-40', '41-50' ,'51-60','61-70','71-80','81-90','91-100','>100']\n",
        "ax.bar(Range,meta_model_stat)\n",
        "plt.show()"
      ],
      "id": "jdxDNspdSbZE",
      "execution_count": null,
      "outputs": [
        {
          "output_type": "display_data",
          "data": {
            "image/png": "[encoded data removed]",
            "text/plain": [
              "<Figure size 432x288 with 1 Axes>"
            ]
          },
          "metadata": {
            "needs_background": "light"
          }
        }
      ]
    },
    {
      "cell_type": "code",
      "metadata": {
        "id": "KfK5_KpVSeRZ"
      },
      "source": [
        ""
      ],
      "id": "KfK5_KpVSeRZ",
      "execution_count": null,
      "outputs": []
    }
  ]
}