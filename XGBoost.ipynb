{
  "nbformat": 4,
  "nbformat_minor": 0,
  "metadata": {
    "colab": {
      "name": "XGBoost.ipynb",
      "provenance": []
    },
    "kernelspec": {
      "name": "python3",
      "display_name": "Python 3"
    },
    "language_info": {
      "name": "python"
    }
  },
  "cells": [
    {
      "cell_type": "code",
      "metadata": {
        "colab": {
          "base_uri": "https://localhost:8080/"
        },
        "id": "LPC6P_-CgT51",
        "outputId": "cee9b2e4-dcb9-4999-b8ef-f4d3decc8093"
      },
      "source": [
        "pip install optuna"
      ],
      "execution_count": null,
      "outputs": [
        {
          "output_type": "stream",
          "name": "stdout",
          "text": [
            "Collecting optuna\n",
            "  Downloading optuna-2.10.0-py3-none-any.whl (308 kB)\n",
            "\u001b[?25l\r\u001b[K     |█                               | 10 kB 14.9 MB/s eta 0:00:01\r\u001b[K     |██▏                             | 20 kB 19.5 MB/s eta 0:00:01\r\u001b[K     |███▏                            | 30 kB 13.0 MB/s eta 0:00:01\r\u001b[K     |████▎                           | 40 kB 9.4 MB/s eta 0:00:01\r\u001b[K     |█████▎                          | 51 kB 5.6 MB/s eta 0:00:01\r\u001b[K     |██████▍                         | 61 kB 6.1 MB/s eta 0:00:01\r\u001b[K     |███████▍                        | 71 kB 5.8 MB/s eta 0:00:01\r\u001b[K     |████████▌                       | 81 kB 6.4 MB/s eta 0:00:01\r\u001b[K     |█████████▋                      | 92 kB 5.3 MB/s eta 0:00:01\r\u001b[K     |██████████▋                     | 102 kB 5.3 MB/s eta 0:00:01\r\u001b[K     |███████████▊                    | 112 kB 5.3 MB/s eta 0:00:01\r\u001b[K     |████████████▊                   | 122 kB 5.3 MB/s eta 0:00:01\r\u001b[K     |█████████████▉                  | 133 kB 5.3 MB/s eta 0:00:01\r\u001b[K     |██████████████▉                 | 143 kB 5.3 MB/s eta 0:00:01\r\u001b[K     |████████████████                | 153 kB 5.3 MB/s eta 0:00:01\r\u001b[K     |█████████████████               | 163 kB 5.3 MB/s eta 0:00:01\r\u001b[K     |██████████████████              | 174 kB 5.3 MB/s eta 0:00:01\r\u001b[K     |███████████████████▏            | 184 kB 5.3 MB/s eta 0:00:01\r\u001b[K     |████████████████████▏           | 194 kB 5.3 MB/s eta 0:00:01\r\u001b[K     |█████████████████████▎          | 204 kB 5.3 MB/s eta 0:00:01\r\u001b[K     |██████████████████████▎         | 215 kB 5.3 MB/s eta 0:00:01\r\u001b[K     |███████████████████████▍        | 225 kB 5.3 MB/s eta 0:00:01\r\u001b[K     |████████████████████████▌       | 235 kB 5.3 MB/s eta 0:00:01\r\u001b[K     |█████████████████████████▌      | 245 kB 5.3 MB/s eta 0:00:01\r\u001b[K     |██████████████████████████▋     | 256 kB 5.3 MB/s eta 0:00:01\r\u001b[K     |███████████████████████████▋    | 266 kB 5.3 MB/s eta 0:00:01\r\u001b[K     |████████████████████████████▊   | 276 kB 5.3 MB/s eta 0:00:01\r\u001b[K     |█████████████████████████████▊  | 286 kB 5.3 MB/s eta 0:00:01\r\u001b[K     |██████████████████████████████▉ | 296 kB 5.3 MB/s eta 0:00:01\r\u001b[K     |████████████████████████████████| 307 kB 5.3 MB/s eta 0:00:01\r\u001b[K     |████████████████████████████████| 308 kB 5.3 MB/s \n",
            "\u001b[?25hRequirement already satisfied: numpy in /usr/local/lib/python3.7/dist-packages (from optuna) (1.19.5)\n",
            "Collecting colorlog\n",
            "  Downloading colorlog-6.5.0-py2.py3-none-any.whl (11 kB)\n",
            "Collecting alembic\n",
            "  Downloading alembic-1.7.4-py3-none-any.whl (209 kB)\n",
            "\u001b[K     |████████████████████████████████| 209 kB 41.7 MB/s \n",
            "\u001b[?25hCollecting cmaes>=0.8.2\n",
            "  Downloading cmaes-0.8.2-py3-none-any.whl (15 kB)\n",
            "Requirement already satisfied: packaging>=20.0 in /usr/local/lib/python3.7/dist-packages (from optuna) (21.0)\n",
            "Requirement already satisfied: tqdm in /usr/local/lib/python3.7/dist-packages (from optuna) (4.62.3)\n",
            "Collecting cliff\n",
            "  Downloading cliff-3.9.0-py3-none-any.whl (80 kB)\n",
            "\u001b[K     |████████████████████████████████| 80 kB 8.0 MB/s \n",
            "\u001b[?25hRequirement already satisfied: PyYAML in /usr/local/lib/python3.7/dist-packages (from optuna) (3.13)\n",
            "Requirement already satisfied: scipy!=1.4.0 in /usr/local/lib/python3.7/dist-packages (from optuna) (1.4.1)\n",
            "Requirement already satisfied: sqlalchemy>=1.1.0 in /usr/local/lib/python3.7/dist-packages (from optuna) (1.4.25)\n",
            "Requirement already satisfied: pyparsing>=2.0.2 in /usr/local/lib/python3.7/dist-packages (from packaging>=20.0->optuna) (2.4.7)\n",
            "Requirement already satisfied: greenlet!=0.4.17 in /usr/local/lib/python3.7/dist-packages (from sqlalchemy>=1.1.0->optuna) (1.1.2)\n",
            "Requirement already satisfied: importlib-metadata in /usr/local/lib/python3.7/dist-packages (from sqlalchemy>=1.1.0->optuna) (4.8.1)\n",
            "Collecting Mako\n",
            "  Downloading Mako-1.1.5-py2.py3-none-any.whl (75 kB)\n",
            "\u001b[K     |████████████████████████████████| 75 kB 4.1 MB/s \n",
            "\u001b[?25hRequirement already satisfied: importlib-resources in /usr/local/lib/python3.7/dist-packages (from alembic->optuna) (5.2.2)\n",
            "Collecting pbr!=2.1.0,>=2.0.0\n",
            "  Downloading pbr-5.6.0-py2.py3-none-any.whl (111 kB)\n",
            "\u001b[K     |████████████████████████████████| 111 kB 49.6 MB/s \n",
            "\u001b[?25hRequirement already satisfied: PrettyTable>=0.7.2 in /usr/local/lib/python3.7/dist-packages (from cliff->optuna) (2.2.1)\n",
            "Collecting autopage>=0.4.0\n",
            "  Downloading autopage-0.4.0-py3-none-any.whl (20 kB)\n",
            "Collecting cmd2>=1.0.0\n",
            "  Downloading cmd2-2.2.0-py3-none-any.whl (144 kB)\n",
            "\u001b[K     |████████████████████████████████| 144 kB 46.4 MB/s \n",
            "\u001b[?25hCollecting stevedore>=2.0.1\n",
            "  Downloading stevedore-3.5.0-py3-none-any.whl (49 kB)\n",
            "\u001b[K     |████████████████████████████████| 49 kB 5.6 MB/s \n",
            "\u001b[?25hRequirement already satisfied: attrs>=16.3.0 in /usr/local/lib/python3.7/dist-packages (from cmd2>=1.0.0->cliff->optuna) (21.2.0)\n",
            "Collecting pyperclip>=1.6\n",
            "  Downloading pyperclip-1.8.2.tar.gz (20 kB)\n",
            "Requirement already satisfied: wcwidth>=0.1.7 in /usr/local/lib/python3.7/dist-packages (from cmd2>=1.0.0->cliff->optuna) (0.2.5)\n",
            "Requirement already satisfied: typing-extensions in /usr/local/lib/python3.7/dist-packages (from cmd2>=1.0.0->cliff->optuna) (3.7.4.3)\n",
            "Collecting colorama>=0.3.7\n",
            "  Downloading colorama-0.4.4-py2.py3-none-any.whl (16 kB)\n",
            "Requirement already satisfied: zipp>=0.5 in /usr/local/lib/python3.7/dist-packages (from importlib-metadata->sqlalchemy>=1.1.0->optuna) (3.6.0)\n",
            "Requirement already satisfied: MarkupSafe>=0.9.2 in /usr/local/lib/python3.7/dist-packages (from Mako->alembic->optuna) (2.0.1)\n",
            "Building wheels for collected packages: pyperclip\n",
            "  Building wheel for pyperclip (setup.py) ... \u001b[?25l\u001b[?25hdone\n",
            "  Created wheel for pyperclip: filename=pyperclip-1.8.2-py3-none-any.whl size=11136 sha256=23a0313c8f9efcc9d081e5adcf8aa062cc7f7ed11daf0a5e7d9257d8e94927d5\n",
            "  Stored in directory: /root/.cache/pip/wheels/9f/18/84/8f69f8b08169c7bae2dde6bd7daf0c19fca8c8e500ee620a28\n",
            "Successfully built pyperclip\n",
            "Installing collected packages: pyperclip, pbr, colorama, stevedore, Mako, cmd2, autopage, colorlog, cmaes, cliff, alembic, optuna\n",
            "Successfully installed Mako-1.1.5 alembic-1.7.4 autopage-0.4.0 cliff-3.9.0 cmaes-0.8.2 cmd2-2.2.0 colorama-0.4.4 colorlog-6.5.0 optuna-2.10.0 pbr-5.6.0 pyperclip-1.8.2 stevedore-3.5.0\n"
          ]
        }
      ]
    },
    {
      "cell_type": "code",
      "metadata": {
        "id": "FKll-3pGgG1B"
      },
      "source": [
        "from sklearn.model_selection import train_test_split\n",
        "from sklearn.metrics import mean_absolute_error\n",
        "from sklearn.model_selection import KFold\n",
        "import pickle\n",
        "import xgboost\n",
        "import optuna\n",
        "import numpy as np\n",
        "import pandas as pd"
      ],
      "execution_count": null,
      "outputs": []
    },
    {
      "cell_type": "code",
      "metadata": {
        "id": "ovhjwb4wgR3J"
      },
      "source": [
        "df = pd.read_csv('train_data.csv', index_col=0)\n",
        "weight = []"
      ],
      "execution_count": null,
      "outputs": []
    },
    {
      "cell_type": "code",
      "metadata": {
        "id": "IyfkZKcugiKP"
      },
      "source": [
        "df=df[df[\"Weight\"]!='Not Available']"
      ],
      "execution_count": null,
      "outputs": []
    },
    {
      "cell_type": "code",
      "metadata": {
        "id": "TS_dgulxgjLM"
      },
      "source": [
        "for index,row in df.iterrows():\n",
        "    weight.append(row[\"Weight\"].split()[0])"
      ],
      "execution_count": null,
      "outputs": []
    },
    {
      "cell_type": "code",
      "metadata": {
        "id": "aOkJc1ZkglT8"
      },
      "source": [
        "df[\"weight\"]=weight"
      ],
      "execution_count": null,
      "outputs": []
    },
    {
      "cell_type": "code",
      "metadata": {
        "id": "8XCxdxQignhz"
      },
      "source": [
        "df = df.astype({\"weight\": int})"
      ],
      "execution_count": null,
      "outputs": []
    },
    {
      "cell_type": "code",
      "metadata": {
        "id": "X2VdAcRIgqKg"
      },
      "source": [
        "X = df.drop([\"Weight\",\"weight\",\"ID\"],axis=1).to_numpy()"
      ],
      "execution_count": null,
      "outputs": []
    },
    {
      "cell_type": "code",
      "metadata": {
        "id": "xl2_b1C0gste"
      },
      "source": [
        "y = df[\"weight\"].to_numpy()"
      ],
      "execution_count": null,
      "outputs": []
    },
    {
      "cell_type": "code",
      "metadata": {
        "id": "A_FCK01tgu8i"
      },
      "source": [
        "kf = KFold(n_splits=5)"
      ],
      "execution_count": null,
      "outputs": []
    },
    {
      "cell_type": "code",
      "metadata": {
        "id": "TMwLn_tcg0fo"
      },
      "source": [
        "def define_model(trial):\n",
        "    lr = trial.suggest_float(\"lr\",1e-5,1e-1,log=True)\n",
        "    n_estimators = trial.suggest_int(\"n_estimators\",1000,3000)\n",
        "    max_depth = trial.suggest_int(\"max_depth\",3,10)\n",
        "    subsample = trial.suggest_float(\"subsample\",0.8,1,log=True)\n",
        "    colsample_bytree = trial.suggest_float(\"colsample_bytree\",0.3,0.8,log=True)\n",
        "    gamma = trial.suggest_int(\"gamma\",0,5)\n",
        "    early_stopping_rounds = trial.suggest_int(\"early_stopping_rounds\",10,100)\n",
        "    return lr,n_estimators,max_depth,subsample,colsample_bytree,gamma,early_stopping_rounds"
      ],
      "execution_count": null,
      "outputs": []
    },
    {
      "cell_type": "code",
      "metadata": {
        "id": "WV1_hcCZjFY0"
      },
      "source": [
        "def objective(trial):\n",
        "    lr,n_estimators,max_depth,subsample,colsample_bytree,gamma,early_stopping_rounds = define_model(trial)\n",
        "    \n",
        "    mae = []\n",
        "    \n",
        "    for train_index, test_index in kf.split(X):\n",
        "            \n",
        "            X_train, X_test, y_train, y_test = X[train_index],X[test_index],y[train_index],y[test_index]\n",
        "\n",
        "            model_xgboost = xgboost.XGBRegressor(objective ='reg:squarederror',\n",
        "                  n_estimators = n_estimators,learning_rate = lr,max_depth = max_depth,subsample = subsample,colsample_bytree = colsample_bytree,gamma = gamma, seed = 1)\n",
        "\n",
        "            eval_set = [(X_test,y_test)]\n",
        "            model_xgboost.fit(X_train,y_train,early_stopping_rounds = early_stopping_rounds,eval_set = eval_set,verbose = False,eval_metric = \"mae\")\n",
        "            y_pred = model_xgboost.predict(X_test)\n",
        "            mae.append(mean_absolute_error(y_test, y_pred))\n",
        "\n",
        "    filename = str(lr)+str(n_estimators)+str(max_depth)+str(subsample)+str(colsample_bytree)+str(gamma)+str(early_stopping_rounds)\n",
        "    filename = filename + \".json\"\n",
        "\n",
        "    model_xgboost.save_model(filename)\n",
        "\n",
        "    acc = sum(mae)/len(mae)\n",
        "\n",
        "    return acc"
      ],
      "execution_count": null,
      "outputs": []
    },
    {
      "cell_type": "code",
      "metadata": {
        "colab": {
          "base_uri": "https://localhost:8080/"
        },
        "id": "PrSD-Xvrp1GO",
        "outputId": "2e020c3f-f313-4f2c-ef9a-c4055a4fd8db"
      },
      "source": [
        "study = optuna.create_study(direction=\"minimize\")\n",
        "study.optimize(objective,n_trials=50)\n",
        "\n",
        "print(\"Best trial:\")\n",
        "trial = study.best_trial\n",
        "\n",
        "print(\" Value: \",trial.value)\n",
        "\n",
        "print(\" Params: \")\n",
        "\n",
        "for key,value in trial.params.items():\n",
        "    print(\"  {}: {}\".format(key,value))"
      ],
      "execution_count": null,
      "outputs": [
        {
          "output_type": "stream",
          "name": "stderr",
          "text": [
            "\u001b[32m[I 2021-11-02 12:43:24,039]\u001b[0m A new study created in memory with name: no-name-ad9200fe-cab6-4dac-a7cd-3886278dc742\u001b[0m\n",
            "\u001b[32m[I 2021-11-02 12:55:28,880]\u001b[0m Trial 0 finished with value: 170.35404799258873 and parameters: {'lr': 4.486365122761064e-05, 'n_estimators': 2311, 'max_depth': 7, 'subsample': 0.9571045003672071, 'colsample_bytree': 0.6949873096950373, 'gamma': 3, 'early_stopping_rounds': 59}. Best is trial 0 with value: 170.35404799258873.\u001b[0m\n",
            "\u001b[32m[I 2021-11-02 13:05:57,294]\u001b[0m Trial 1 finished with value: 27.414316247957277 and parameters: {'lr': 0.003063497890536736, 'n_estimators': 1747, 'max_depth': 8, 'subsample': 0.9634927963360753, 'colsample_bytree': 0.6915140941626904, 'gamma': 0, 'early_stopping_rounds': 81}. Best is trial 1 with value: 27.414316247957277.\u001b[0m\n",
            "\u001b[32m[I 2021-11-02 13:07:13,055]\u001b[0m Trial 2 finished with value: 27.387844246802054 and parameters: {'lr': 0.023458942153364148, 'n_estimators': 2761, 'max_depth': 5, 'subsample': 0.9544373049552803, 'colsample_bytree': 0.6298725733546409, 'gamma': 1, 'early_stopping_rounds': 86}. Best is trial 2 with value: 27.387844246802054.\u001b[0m\n",
            "\u001b[32m[I 2021-11-02 13:07:46,229]\u001b[0m Trial 3 finished with value: 27.41522930435321 and parameters: {'lr': 0.05883875800527899, 'n_estimators': 2421, 'max_depth': 5, 'subsample': 0.9835573239435861, 'colsample_bytree': 0.4646835187156369, 'gamma': 2, 'early_stopping_rounds': 71}. Best is trial 2 with value: 27.387844246802054.\u001b[0m\n",
            "\u001b[32m[I 2021-11-02 13:12:37,296]\u001b[0m Trial 4 finished with value: 178.6622509392299 and parameters: {'lr': 3.402500285588201e-05, 'n_estimators': 1647, 'max_depth': 4, 'subsample': 0.8553628195617914, 'colsample_bytree': 0.5139800180913021, 'gamma': 2, 'early_stopping_rounds': 36}. Best is trial 2 with value: 27.387844246802054.\u001b[0m\n",
            "\u001b[32m[I 2021-11-02 13:17:36,398]\u001b[0m Trial 5 finished with value: 169.36881769642795 and parameters: {'lr': 4.665801246500707e-05, 'n_estimators': 2346, 'max_depth': 6, 'subsample': 0.8782667182415828, 'colsample_bytree': 0.30434468348589067, 'gamma': 1, 'early_stopping_rounds': 55}. Best is trial 2 with value: 27.387844246802054.\u001b[0m\n",
            "\u001b[32m[I 2021-11-02 13:25:44,295]\u001b[0m Trial 6 finished with value: 27.464392235675216 and parameters: {'lr': 0.0017462679328370365, 'n_estimators': 2611, 'max_depth': 5, 'subsample': 0.9600416067887294, 'colsample_bytree': 0.4827862608573751, 'gamma': 1, 'early_stopping_rounds': 57}. Best is trial 2 with value: 27.387844246802054.\u001b[0m\n",
            "\u001b[32m[I 2021-11-02 13:29:56,297]\u001b[0m Trial 7 finished with value: 27.400028111432363 and parameters: {'lr': 0.004039321623985106, 'n_estimators': 2773, 'max_depth': 4, 'subsample': 0.988005403420411, 'colsample_bytree': 0.6027601967509778, 'gamma': 1, 'early_stopping_rounds': 60}. Best is trial 2 with value: 27.387844246802054.\u001b[0m\n",
            "\u001b[32m[I 2021-11-02 13:49:43,172]\u001b[0m Trial 8 finished with value: 61.02403355959537 and parameters: {'lr': 0.00048391381723621597, 'n_estimators': 2349, 'max_depth': 8, 'subsample': 0.8352963116549038, 'colsample_bytree': 0.7922053781595466, 'gamma': 3, 'early_stopping_rounds': 50}. Best is trial 2 with value: 27.387844246802054.\u001b[0m\n",
            "\u001b[32m[I 2021-11-02 13:57:48,325]\u001b[0m Trial 9 finished with value: 178.04287482050887 and parameters: {'lr': 4.0599308958063894e-05, 'n_estimators': 1466, 'max_depth': 9, 'subsample': 0.8511076087992692, 'colsample_bytree': 0.703907807336001, 'gamma': 4, 'early_stopping_rounds': 50}. Best is trial 2 with value: 27.387844246802054.\u001b[0m\n",
            "\u001b[32m[I 2021-11-02 13:58:15,438]\u001b[0m Trial 10 finished with value: 27.463655566312333 and parameters: {'lr': 0.0820179217290128, 'n_estimators': 1036, 'max_depth': 3, 'subsample': 0.9189661488291118, 'colsample_bytree': 0.36672479604231917, 'gamma': 5, 'early_stopping_rounds': 98}. Best is trial 2 with value: 27.387844246802054.\u001b[0m\n",
            "\u001b[32m[I 2021-11-02 13:59:31,206]\u001b[0m Trial 11 finished with value: 27.425821056312476 and parameters: {'lr': 0.011548443088442124, 'n_estimators': 2870, 'max_depth': 3, 'subsample': 0.8009596881939979, 'colsample_bytree': 0.5785119286659455, 'gamma': 0, 'early_stopping_rounds': 21}. Best is trial 2 with value: 27.387844246802054.\u001b[0m\n",
            "\u001b[32m[I 2021-11-02 14:01:27,380]\u001b[0m Trial 12 finished with value: 27.39645544190513 and parameters: {'lr': 0.01330616075705337, 'n_estimators': 2947, 'max_depth': 5, 'subsample': 0.9985475435816243, 'colsample_bytree': 0.5809268241518589, 'gamma': 1, 'early_stopping_rounds': 97}. Best is trial 2 with value: 27.387844246802054.\u001b[0m\n",
            "\u001b[32m[I 2021-11-02 14:03:27,580]\u001b[0m Trial 13 finished with value: 27.389664049370737 and parameters: {'lr': 0.01587948866501586, 'n_estimators': 2903, 'max_depth': 6, 'subsample': 0.9197651769917933, 'colsample_bytree': 0.5721877596150168, 'gamma': 1, 'early_stopping_rounds': 98}. Best is trial 2 with value: 27.387844246802054.\u001b[0m\n",
            "\u001b[32m[I 2021-11-02 14:10:41,538]\u001b[0m Trial 14 finished with value: 72.20983148508336 and parameters: {'lr': 0.0004815886942784359, 'n_estimators': 2000, 'max_depth': 6, 'subsample': 0.9249467353177941, 'colsample_bytree': 0.38887841084630953, 'gamma': 0, 'early_stopping_rounds': 83}. Best is trial 2 with value: 27.387844246802054.\u001b[0m\n",
            "\u001b[32m[I 2021-11-02 14:12:44,504]\u001b[0m Trial 15 finished with value: 27.437137853371933 and parameters: {'lr': 0.020629094074869885, 'n_estimators': 2653, 'max_depth': 10, 'subsample': 0.920482834584945, 'colsample_bytree': 0.5324778792932916, 'gamma': 2, 'early_stopping_rounds': 86}. Best is trial 2 with value: 27.387844246802054.\u001b[0m\n",
            "\u001b[32m[I 2021-11-02 14:13:43,716]\u001b[0m Trial 16 finished with value: 27.440439529236677 and parameters: {'lr': 0.0296126408033376, 'n_estimators': 2078, 'max_depth': 7, 'subsample': 0.8945532484988632, 'colsample_bytree': 0.4286546832642883, 'gamma': 1, 'early_stopping_rounds': 73}. Best is trial 2 with value: 27.387844246802054.\u001b[0m\n",
            "\u001b[32m[I 2021-11-02 14:17:36,019]\u001b[0m Trial 17 finished with value: 27.38683018165093 and parameters: {'lr': 0.006838331177407049, 'n_estimators': 2972, 'max_depth': 6, 'subsample': 0.9378679259713562, 'colsample_bytree': 0.6292290359034886, 'gamma': 2, 'early_stopping_rounds': 90}. Best is trial 17 with value: 27.38683018165093.\u001b[0m\n",
            "\u001b[32m[I 2021-11-02 14:21:05,754]\u001b[0m Trial 18 finished with value: 27.3984823406165 and parameters: {'lr': 0.004997499759338035, 'n_estimators': 2585, 'max_depth': 4, 'subsample': 0.9455432469396632, 'colsample_bytree': 0.6467091199472261, 'gamma': 3, 'early_stopping_rounds': 71}. Best is trial 17 with value: 27.38683018165093.\u001b[0m\n",
            "\u001b[32m[I 2021-11-02 14:44:14,904]\u001b[0m Trial 19 finished with value: 110.89423725817763 and parameters: {'lr': 0.0001780583591529287, 'n_estimators': 2996, 'max_depth': 8, 'subsample': 0.8942822153179845, 'colsample_bytree': 0.7857664898586534, 'gamma': 4, 'early_stopping_rounds': 87}. Best is trial 17 with value: 27.38683018165093.\u001b[0m\n",
            "\u001b[32m[I 2021-11-02 14:56:50,381]\u001b[0m Trial 20 finished with value: 31.002500650906246 and parameters: {'lr': 0.001050434705324813, 'n_estimators': 2091, 'max_depth': 7, 'subsample': 0.9398998945923566, 'colsample_bytree': 0.6488902344621875, 'gamma': 2, 'early_stopping_rounds': 11}. Best is trial 17 with value: 27.38683018165093.\u001b[0m\n",
            "\u001b[32m[I 2021-11-02 14:59:48,664]\u001b[0m Trial 21 finished with value: 27.39889805712813 and parameters: {'lr': 0.008121568533035903, 'n_estimators': 2792, 'max_depth': 6, 'subsample': 0.9086572974333066, 'colsample_bytree': 0.5435647900582693, 'gamma': 1, 'early_stopping_rounds': 100}. Best is trial 17 with value: 27.38683018165093.\u001b[0m\n",
            "\u001b[32m[I 2021-11-02 15:00:44,430]\u001b[0m Trial 22 finished with value: 27.402553239219127 and parameters: {'lr': 0.037128975199568606, 'n_estimators': 2738, 'max_depth': 5, 'subsample': 0.9395592567240898, 'colsample_bytree': 0.6252754734355047, 'gamma': 2, 'early_stopping_rounds': 92}. Best is trial 17 with value: 27.38683018165093.\u001b[0m\n",
            "\u001b[32m[I 2021-11-02 15:04:08,842]\u001b[0m Trial 23 finished with value: 27.406542688161988 and parameters: {'lr': 0.007240431076907704, 'n_estimators': 2997, 'max_depth': 6, 'subsample': 0.9716513023292684, 'colsample_bytree': 0.5555197001186841, 'gamma': 0, 'early_stopping_rounds': 90}. Best is trial 17 with value: 27.38683018165093.\u001b[0m\n",
            "\u001b[32m[I 2021-11-02 15:05:42,416]\u001b[0m Trial 24 finished with value: 27.38278132149752 and parameters: {'lr': 0.02014774387775691, 'n_estimators': 2524, 'max_depth': 5, 'subsample': 0.8950393314355516, 'colsample_bytree': 0.7354876337262857, 'gamma': 1, 'early_stopping_rounds': 77}. Best is trial 24 with value: 27.38278132149752.\u001b[0m\n",
            "\u001b[32m[I 2021-11-02 15:06:12,852]\u001b[0m Trial 25 finished with value: 27.414960062513842 and parameters: {'lr': 0.09726546079081086, 'n_estimators': 2519, 'max_depth': 4, 'subsample': 0.8696976508752892, 'colsample_bytree': 0.7469035554650796, 'gamma': 2, 'early_stopping_rounds': 78}. Best is trial 24 with value: 27.38278132149752.\u001b[0m\n",
            "\u001b[32m[I 2021-11-02 15:07:04,070]\u001b[0m Trial 26 finished with value: 27.385832749586008 and parameters: {'lr': 0.04176474598762357, 'n_estimators': 2470, 'max_depth': 5, 'subsample': 0.8993463419929218, 'colsample_bytree': 0.7171197717137774, 'gamma': 0, 'early_stopping_rounds': 64}. Best is trial 24 with value: 27.38278132149752.\u001b[0m\n",
            "\u001b[32m[I 2021-11-02 15:13:47,882]\u001b[0m Trial 27 finished with value: 27.419039401607176 and parameters: {'lr': 0.0023342999505285376, 'n_estimators': 2235, 'max_depth': 4, 'subsample': 0.8930475227845213, 'colsample_bytree': 0.7334557120825128, 'gamma': 0, 'early_stopping_rounds': 67}. Best is trial 24 with value: 27.38278132149752.\u001b[0m\n",
            "\u001b[32m[I 2021-11-02 15:14:35,543]\u001b[0m Trial 28 finished with value: 27.392655621061998 and parameters: {'lr': 0.043315037958816895, 'n_estimators': 2492, 'max_depth': 5, 'subsample': 0.8754135247717999, 'colsample_bytree': 0.7426038044102656, 'gamma': 0, 'early_stopping_rounds': 65}. Best is trial 24 with value: 27.38278132149752.\u001b[0m\n",
            "\u001b[32m[I 2021-11-02 15:26:47,258]\u001b[0m Trial 29 finished with value: 183.82298087304403 and parameters: {'lr': 1.226407662200384e-05, 'n_estimators': 2247, 'max_depth': 7, 'subsample': 0.9021544508517542, 'colsample_bytree': 0.6714644358743442, 'gamma': 3, 'early_stopping_rounds': 45}. Best is trial 24 with value: 27.38278132149752.\u001b[0m\n",
            "\u001b[32m[I 2021-11-02 15:29:24,175]\u001b[0m Trial 30 finished with value: 27.422417211348723 and parameters: {'lr': 0.007428397390143924, 'n_estimators': 1789, 'max_depth': 3, 'subsample': 0.8217475634651723, 'colsample_bytree': 0.7992289394531182, 'gamma': 4, 'early_stopping_rounds': 76}. Best is trial 24 with value: 27.38278132149752.\u001b[0m\n",
            "\u001b[32m[I 2021-11-02 15:30:31,674]\u001b[0m Trial 31 finished with value: 27.388889753808208 and parameters: {'lr': 0.023404873613812056, 'n_estimators': 2705, 'max_depth': 5, 'subsample': 0.950288008263474, 'colsample_bytree': 0.625116710466498, 'gamma': 1, 'early_stopping_rounds': 65}. Best is trial 24 with value: 27.38278132149752.\u001b[0m\n",
            "\u001b[32m[I 2021-11-02 15:31:21,319]\u001b[0m Trial 32 finished with value: 27.395453704348107 and parameters: {'lr': 0.0484193612611615, 'n_estimators': 2826, 'max_depth': 5, 'subsample': 0.9298808144497412, 'colsample_bytree': 0.6876809205199632, 'gamma': 0, 'early_stopping_rounds': 81}. Best is trial 24 with value: 27.38278132149752.\u001b[0m\n",
            "\u001b[32m[I 2021-11-02 15:33:00,051]\u001b[0m Trial 33 finished with value: 27.390322512312054 and parameters: {'lr': 0.024185076970340284, 'n_estimators': 2491, 'max_depth': 6, 'subsample': 0.9682101398479057, 'colsample_bytree': 0.7203672129462267, 'gamma': 1, 'early_stopping_rounds': 92}. Best is trial 24 with value: 27.38278132149752.\u001b[0m\n",
            "\u001b[32m[I 2021-11-02 15:36:07,449]\u001b[0m Trial 34 finished with value: 27.388039339767385 and parameters: {'lr': 0.01260733630960856, 'n_estimators': 2636, 'max_depth': 7, 'subsample': 0.90484195971278, 'colsample_bytree': 0.6722221033273273, 'gamma': 2, 'early_stopping_rounds': 77}. Best is trial 24 with value: 27.38278132149752.\u001b[0m\n",
            "\u001b[32m[I 2021-11-02 15:36:42,249]\u001b[0m Trial 35 finished with value: 27.416454618969293 and parameters: {'lr': 0.04708572598873516, 'n_estimators': 2409, 'max_depth': 4, 'subsample': 0.8612199414548115, 'colsample_bytree': 0.5148260486414392, 'gamma': 0, 'early_stopping_rounds': 84}. Best is trial 24 with value: 27.38278132149752.\u001b[0m\n",
            "\u001b[32m[I 2021-11-02 15:37:17,265]\u001b[0m Trial 36 finished with value: 27.404761067158802 and parameters: {'lr': 0.07071843914591099, 'n_estimators': 2186, 'max_depth': 6, 'subsample': 0.8831027790602424, 'colsample_bytree': 0.7513806217207053, 'gamma': 2, 'early_stopping_rounds': 35}. Best is trial 24 with value: 27.38278132149752.\u001b[0m\n",
            "\u001b[32m[I 2021-11-02 15:42:01,963]\u001b[0m Trial 37 finished with value: 27.390072932615077 and parameters: {'lr': 0.004198800087344425, 'n_estimators': 1878, 'max_depth': 5, 'subsample': 0.9532513035653962, 'colsample_bytree': 0.6167111442928052, 'gamma': 1, 'early_stopping_rounds': 61}. Best is trial 24 with value: 27.38278132149752.\u001b[0m\n",
            "\u001b[32m[I 2021-11-02 15:48:59,385]\u001b[0m Trial 38 finished with value: 27.408879961272824 and parameters: {'lr': 0.0022957963503108104, 'n_estimators': 2806, 'max_depth': 5, 'subsample': 0.9303989872531411, 'colsample_bytree': 0.4552842577962037, 'gamma': 1, 'early_stopping_rounds': 73}. Best is trial 24 with value: 27.38278132149752.\u001b[0m\n",
            "\u001b[32m[I 2021-11-02 15:58:14,361]\u001b[0m Trial 39 finished with value: 27.7888792760596 and parameters: {'lr': 0.001340184408470877, 'n_estimators': 2412, 'max_depth': 4, 'subsample': 0.9814514559697864, 'colsample_bytree': 0.6982444496770962, 'gamma': 0, 'early_stopping_rounds': 80}. Best is trial 24 with value: 27.38278132149752.\u001b[0m\n",
            "\u001b[32m[I 2021-11-02 16:00:43,334]\u001b[0m Trial 40 finished with value: 27.53359160907285 and parameters: {'lr': 0.008002824445699046, 'n_estimators': 1422, 'max_depth': 6, 'subsample': 0.8830136845686429, 'colsample_bytree': 0.3185431448924455, 'gamma': 2, 'early_stopping_rounds': 70}. Best is trial 24 with value: 27.38278132149752.\u001b[0m\n",
            "\u001b[32m[I 2021-11-02 16:03:12,648]\u001b[0m Trial 41 finished with value: 27.39198974636914 and parameters: {'lr': 0.013610427546541645, 'n_estimators': 2615, 'max_depth': 7, 'subsample': 0.9077500030221511, 'colsample_bytree': 0.6558358820034927, 'gamma': 2, 'early_stopping_rounds': 76}. Best is trial 24 with value: 27.38278132149752.\u001b[0m\n",
            "\u001b[32m[I 2021-11-02 16:05:12,889]\u001b[0m Trial 42 finished with value: 27.408351639642035 and parameters: {'lr': 0.026158350368332285, 'n_estimators': 2678, 'max_depth': 8, 'subsample': 0.9116346567673488, 'colsample_bytree': 0.6729866853441038, 'gamma': 3, 'early_stopping_rounds': 89}. Best is trial 24 with value: 27.38278132149752.\u001b[0m\n",
            "\u001b[32m[I 2021-11-02 16:08:19,701]\u001b[0m Trial 43 finished with value: 27.420601266259332 and parameters: {'lr': 0.0167865886432385, 'n_estimators': 2585, 'max_depth': 9, 'subsample': 0.9356566836041244, 'colsample_bytree': 0.7105333966241851, 'gamma': 2, 'early_stopping_rounds': 94}. Best is trial 24 with value: 27.38278132149752.\u001b[0m\n",
            "\u001b[32m[I 2021-11-02 16:09:17,842]\u001b[0m Trial 44 finished with value: 27.440017290790223 and parameters: {'lr': 0.05603493683547036, 'n_estimators': 2881, 'max_depth': 8, 'subsample': 0.9629619099561461, 'colsample_bytree': 0.5955504507827853, 'gamma': 1, 'early_stopping_rounds': 61}. Best is trial 24 with value: 27.38278132149752.\u001b[0m\n",
            "\u001b[32m[I 2021-11-02 16:11:35,714]\u001b[0m Trial 45 finished with value: 27.376270629318903 and parameters: {'lr': 0.011334813373338989, 'n_estimators': 2333, 'max_depth': 5, 'subsample': 0.8486443999034436, 'colsample_bytree': 0.767195468916397, 'gamma': 2, 'early_stopping_rounds': 55}. Best is trial 45 with value: 27.376270629318903.\u001b[0m\n",
            "\u001b[32m[I 2021-11-02 16:16:27,572]\u001b[0m Trial 46 finished with value: 27.379813232480025 and parameters: {'lr': 0.004830041379861426, 'n_estimators': 2516, 'max_depth': 5, 'subsample': 0.8442112058410903, 'colsample_bytree': 0.765779535682778, 'gamma': 1, 'early_stopping_rounds': 54}. Best is trial 45 with value: 27.376270629318903.\u001b[0m\n",
            "\u001b[32m[I 2021-11-02 16:23:01,347]\u001b[0m Trial 47 finished with value: 27.379779718540846 and parameters: {'lr': 0.003300968726814464, 'n_estimators': 2282, 'max_depth': 5, 'subsample': 0.8444625535357307, 'colsample_bytree': 0.7633242361494325, 'gamma': 3, 'early_stopping_rounds': 50}. Best is trial 45 with value: 27.376270629318903.\u001b[0m\n",
            "\u001b[32m[I 2021-11-02 16:34:22,829]\u001b[0m Trial 48 finished with value: 47.834563198085206 and parameters: {'lr': 0.000601008387594348, 'n_estimators': 2333, 'max_depth': 5, 'subsample': 0.8419356556862447, 'colsample_bytree': 0.7611851399107838, 'gamma': 4, 'early_stopping_rounds': 50}. Best is trial 45 with value: 27.376270629318903.\u001b[0m\n",
            "\u001b[32m[I 2021-11-02 16:38:49,338]\u001b[0m Trial 49 finished with value: 27.389993186603853 and parameters: {'lr': 0.004125835151038349, 'n_estimators': 2157, 'max_depth': 4, 'subsample': 0.8243824340915733, 'colsample_bytree': 0.7747821838052416, 'gamma': 3, 'early_stopping_rounds': 38}. Best is trial 45 with value: 27.376270629318903.\u001b[0m\n"
          ]
        },
        {
          "output_type": "stream",
          "name": "stdout",
          "text": [
            "Best trial:\n",
            " Value:  27.376270629318903\n",
            " Params: \n",
            "  lr: 0.011334813373338989\n",
            "  n_estimators: 2333\n",
            "  max_depth: 5\n",
            "  subsample: 0.8486443999034436\n",
            "  colsample_bytree: 0.767195468916397\n",
            "  gamma: 2\n",
            "  early_stopping_rounds: 55\n"
          ]
        }
      ]
    },
    {
      "cell_type": "code",
      "metadata": {
        "id": "mnxXGJqSp2Jk"
      },
      "source": [
        ""
      ],
      "execution_count": null,
      "outputs": []
    }
  ]
}